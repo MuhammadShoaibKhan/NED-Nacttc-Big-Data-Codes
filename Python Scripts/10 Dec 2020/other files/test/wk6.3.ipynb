{
 "cells": [
  {
   "cell_type": "code",
   "execution_count": 115,
   "metadata": {},
   "outputs": [],
   "source": [
    "import pandas as pd "
   ]
  },
  {
   "cell_type": "code",
   "execution_count": 116,
   "metadata": {},
   "outputs": [
    {
     "data": {
      "text/html": [
       "<div>\n",
       "<style scoped>\n",
       "    .dataframe tbody tr th:only-of-type {\n",
       "        vertical-align: middle;\n",
       "    }\n",
       "\n",
       "    .dataframe tbody tr th {\n",
       "        vertical-align: top;\n",
       "    }\n",
       "\n",
       "    .dataframe thead th {\n",
       "        text-align: right;\n",
       "    }\n",
       "</style>\n",
       "<table border=\"1\" class=\"dataframe\">\n",
       "  <thead>\n",
       "    <tr style=\"text-align: right;\">\n",
       "      <th></th>\n",
       "      <th>Unnamed: 0</th>\n",
       "      <th>dur</th>\n",
       "      <th>staA_id</th>\n",
       "      <th>staA_name</th>\n",
       "      <th>staB_id</th>\n",
       "      <th>staB_name</th>\n",
       "      <th>veh_id</th>\n",
       "      <th>passen_type</th>\n",
       "      <th>passen_gender</th>\n",
       "      <th>travel_date</th>\n",
       "      <th>travel_id</th>\n",
       "      <th>veh_count</th>\n",
       "    </tr>\n",
       "  </thead>\n",
       "  <tbody>\n",
       "    <tr>\n",
       "      <td>0</td>\n",
       "      <td>0</td>\n",
       "      <td>12 minutes</td>\n",
       "      <td>81</td>\n",
       "      <td>Berry St at 4th St</td>\n",
       "      <td>323</td>\n",
       "      <td>Broadway at Kearny</td>\n",
       "      <td>5480</td>\n",
       "      <td>2</td>\n",
       "      <td>Male</td>\n",
       "      <td>4/21/2017</td>\n",
       "      <td>16941</td>\n",
       "      <td>19</td>\n",
       "    </tr>\n",
       "    <tr>\n",
       "      <td>1</td>\n",
       "      <td>1</td>\n",
       "      <td>24 minutes</td>\n",
       "      <td>3</td>\n",
       "      <td>Powell St BART Station (Market St at 4th St)</td>\n",
       "      <td>118</td>\n",
       "      <td>Eureka Valley Recreation Center</td>\n",
       "      <td>5193</td>\n",
       "      <td>2</td>\n",
       "      <td>Male</td>\n",
       "      <td>2/13/2020</td>\n",
       "      <td>7334</td>\n",
       "      <td>16</td>\n",
       "    </tr>\n",
       "    <tr>\n",
       "      <td>2</td>\n",
       "      <td>2</td>\n",
       "      <td>8 minutes</td>\n",
       "      <td>67</td>\n",
       "      <td>San Francisco Caltrain Station 2  (Townsend St...</td>\n",
       "      <td>23</td>\n",
       "      <td>The Embarcadero at Steuart St</td>\n",
       "      <td>3652</td>\n",
       "      <td>3</td>\n",
       "      <td>Male</td>\n",
       "      <td>6/25/2020</td>\n",
       "      <td>24934</td>\n",
       "      <td>27</td>\n",
       "    </tr>\n",
       "    <tr>\n",
       "      <td>3</td>\n",
       "      <td>3</td>\n",
       "      <td>4 minutes</td>\n",
       "      <td>16</td>\n",
       "      <td>Steuart St at Market St</td>\n",
       "      <td>28</td>\n",
       "      <td>The Embarcadero at Bryant St</td>\n",
       "      <td>1883</td>\n",
       "      <td>1</td>\n",
       "      <td>Male</td>\n",
       "      <td>10/8/2021</td>\n",
       "      <td>25532</td>\n",
       "      <td>27</td>\n",
       "    </tr>\n",
       "    <tr>\n",
       "      <td>4</td>\n",
       "      <td>4</td>\n",
       "      <td>11 minutes</td>\n",
       "      <td>22</td>\n",
       "      <td>Howard St at Beale St</td>\n",
       "      <td>350</td>\n",
       "      <td>8th St at Brannan St</td>\n",
       "      <td>4626</td>\n",
       "      <td>2</td>\n",
       "      <td>Male</td>\n",
       "      <td>12/14/2019</td>\n",
       "      <td>7385</td>\n",
       "      <td>29</td>\n",
       "    </tr>\n",
       "    <tr>\n",
       "      <td>...</td>\n",
       "      <td>...</td>\n",
       "      <td>...</td>\n",
       "      <td>...</td>\n",
       "      <td>...</td>\n",
       "      <td>...</td>\n",
       "      <td>...</td>\n",
       "      <td>...</td>\n",
       "      <td>...</td>\n",
       "      <td>...</td>\n",
       "      <td>...</td>\n",
       "      <td>...</td>\n",
       "      <td>...</td>\n",
       "    </tr>\n",
       "    <tr>\n",
       "      <td>25755</td>\n",
       "      <td>25755</td>\n",
       "      <td>11 minutes</td>\n",
       "      <td>15</td>\n",
       "      <td>San Francisco Ferry Building (Harry Bridges Pl...</td>\n",
       "      <td>34</td>\n",
       "      <td>Father Alfred E Boeddeker Park</td>\n",
       "      <td>5063</td>\n",
       "      <td>1</td>\n",
       "      <td>Male</td>\n",
       "      <td>1/24/2020</td>\n",
       "      <td>6015</td>\n",
       "      <td>8</td>\n",
       "    </tr>\n",
       "    <tr>\n",
       "      <td>25756</td>\n",
       "      <td>25756</td>\n",
       "      <td>10 minutes</td>\n",
       "      <td>15</td>\n",
       "      <td>San Francisco Ferry Building (Harry Bridges Pl...</td>\n",
       "      <td>34</td>\n",
       "      <td>Father Alfred E Boeddeker Park</td>\n",
       "      <td>5411</td>\n",
       "      <td>2</td>\n",
       "      <td>Male</td>\n",
       "      <td>7/19/2020</td>\n",
       "      <td>13437</td>\n",
       "      <td>25</td>\n",
       "    </tr>\n",
       "    <tr>\n",
       "      <td>25757</td>\n",
       "      <td>25757</td>\n",
       "      <td>14 minutes</td>\n",
       "      <td>15</td>\n",
       "      <td>San Francisco Ferry Building (Harry Bridges Pl...</td>\n",
       "      <td>42</td>\n",
       "      <td>San Francisco City Hall (Polk St at Grove St)</td>\n",
       "      <td>5157</td>\n",
       "      <td>2</td>\n",
       "      <td>Male</td>\n",
       "      <td>11/6/2017</td>\n",
       "      <td>21163</td>\n",
       "      <td>38</td>\n",
       "    </tr>\n",
       "    <tr>\n",
       "      <td>25758</td>\n",
       "      <td>25758</td>\n",
       "      <td>14 minutes</td>\n",
       "      <td>15</td>\n",
       "      <td>San Francisco Ferry Building (Harry Bridges Pl...</td>\n",
       "      <td>42</td>\n",
       "      <td>San Francisco City Hall (Polk St at Grove St)</td>\n",
       "      <td>4438</td>\n",
       "      <td>2</td>\n",
       "      <td>Male</td>\n",
       "      <td>2/23/2017</td>\n",
       "      <td>2598</td>\n",
       "      <td>25</td>\n",
       "    </tr>\n",
       "    <tr>\n",
       "      <td>25759</td>\n",
       "      <td>25759</td>\n",
       "      <td>29 minutes</td>\n",
       "      <td>16</td>\n",
       "      <td>Steuart St at Market St</td>\n",
       "      <td>115</td>\n",
       "      <td>Jackson Playground</td>\n",
       "      <td>1705</td>\n",
       "      <td>3</td>\n",
       "      <td>Male</td>\n",
       "      <td>5/25/2017</td>\n",
       "      <td>12320</td>\n",
       "      <td>20</td>\n",
       "    </tr>\n",
       "  </tbody>\n",
       "</table>\n",
       "<p>25760 rows × 12 columns</p>\n",
       "</div>"
      ],
      "text/plain": [
       "       Unnamed: 0         dur  staA_id  \\\n",
       "0               0  12 minutes       81   \n",
       "1               1  24 minutes        3   \n",
       "2               2   8 minutes       67   \n",
       "3               3   4 minutes       16   \n",
       "4               4  11 minutes       22   \n",
       "...           ...         ...      ...   \n",
       "25755       25755  11 minutes       15   \n",
       "25756       25756  10 minutes       15   \n",
       "25757       25757  14 minutes       15   \n",
       "25758       25758  14 minutes       15   \n",
       "25759       25759  29 minutes       16   \n",
       "\n",
       "                                               staA_name  staB_id  \\\n",
       "0                                     Berry St at 4th St      323   \n",
       "1           Powell St BART Station (Market St at 4th St)      118   \n",
       "2      San Francisco Caltrain Station 2  (Townsend St...       23   \n",
       "3                                Steuart St at Market St       28   \n",
       "4                                  Howard St at Beale St      350   \n",
       "...                                                  ...      ...   \n",
       "25755  San Francisco Ferry Building (Harry Bridges Pl...       34   \n",
       "25756  San Francisco Ferry Building (Harry Bridges Pl...       34   \n",
       "25757  San Francisco Ferry Building (Harry Bridges Pl...       42   \n",
       "25758  San Francisco Ferry Building (Harry Bridges Pl...       42   \n",
       "25759                            Steuart St at Market St      115   \n",
       "\n",
       "                                           staB_name  veh_id  passen_type  \\\n",
       "0                                 Broadway at Kearny    5480            2   \n",
       "1                    Eureka Valley Recreation Center    5193            2   \n",
       "2                      The Embarcadero at Steuart St    3652            3   \n",
       "3                       The Embarcadero at Bryant St    1883            1   \n",
       "4                               8th St at Brannan St    4626            2   \n",
       "...                                              ...     ...          ...   \n",
       "25755                 Father Alfred E Boeddeker Park    5063            1   \n",
       "25756                 Father Alfred E Boeddeker Park    5411            2   \n",
       "25757  San Francisco City Hall (Polk St at Grove St)    5157            2   \n",
       "25758  San Francisco City Hall (Polk St at Grove St)    4438            2   \n",
       "25759                             Jackson Playground    1705            3   \n",
       "\n",
       "      passen_gender travel_date  travel_id  veh_count  \n",
       "0              Male   4/21/2017      16941         19  \n",
       "1              Male   2/13/2020       7334         16  \n",
       "2              Male   6/25/2020      24934         27  \n",
       "3              Male   10/8/2021      25532         27  \n",
       "4              Male  12/14/2019       7385         29  \n",
       "...             ...         ...        ...        ...  \n",
       "25755          Male   1/24/2020       6015          8  \n",
       "25756          Male   7/19/2020      13437         25  \n",
       "25757          Male   11/6/2017      21163         38  \n",
       "25758          Male   2/23/2017       2598         25  \n",
       "25759          Male   5/25/2017      12320         20  \n",
       "\n",
       "[25760 rows x 12 columns]"
      ]
     },
     "execution_count": 116,
     "metadata": {},
     "output_type": "execute_result"
    }
   ],
   "source": [
    "data = pd.read_csv('ride_data.csv')\n",
    "data "
   ]
  },
  {
   "cell_type": "code",
   "execution_count": 117,
   "metadata": {},
   "outputs": [
    {
     "name": "stdout",
     "output_type": "stream",
     "text": [
      "<class 'pandas.core.frame.DataFrame'>\n",
      "RangeIndex: 25760 entries, 0 to 25759\n",
      "Data columns (total 12 columns):\n",
      "Unnamed: 0       25760 non-null int64\n",
      "dur              25760 non-null object\n",
      "staA_id          25760 non-null int64\n",
      "staA_name        25760 non-null object\n",
      "staB_id          25760 non-null int64\n",
      "staB_name        25760 non-null object\n",
      "veh_id           25760 non-null int64\n",
      "passen_type      25760 non-null int64\n",
      "passen_gender    25760 non-null object\n",
      "travel_date      25760 non-null object\n",
      "travel_id        25760 non-null int64\n",
      "veh_count        25760 non-null int64\n",
      "dtypes: int64(7), object(5)\n",
      "memory usage: 2.4+ MB\n"
     ]
    }
   ],
   "source": [
    "data.info()"
   ]
  },
  {
   "cell_type": "code",
   "execution_count": 118,
   "metadata": {},
   "outputs": [
    {
     "data": {
      "text/plain": [
       "count    25760.000000\n",
       "mean         2.008385\n",
       "std          0.704541\n",
       "min          1.000000\n",
       "25%          2.000000\n",
       "50%          2.000000\n",
       "75%          3.000000\n",
       "max          3.000000\n",
       "Name: passen_type, dtype: float64"
      ]
     },
     "execution_count": 118,
     "metadata": {},
     "output_type": "execute_result"
    }
   ],
   "source": [
    "data['passen_type'].describe()"
   ]
  },
  {
   "cell_type": "code",
   "execution_count": 119,
   "metadata": {},
   "outputs": [],
   "source": [
    "data['passen_type'] = data['passen_type'].astype('category')"
   ]
  },
  {
   "cell_type": "code",
   "execution_count": 120,
   "metadata": {},
   "outputs": [],
   "source": [
    "assert data['passen_type'].dtype == 'category' "
   ]
  },
  {
   "cell_type": "code",
   "execution_count": 121,
   "metadata": {},
   "outputs": [
    {
     "data": {
      "text/plain": [
       "count     25760\n",
       "unique        3\n",
       "top           2\n",
       "freq      12972\n",
       "Name: passen_type, dtype: int64"
      ]
     },
     "execution_count": 121,
     "metadata": {},
     "output_type": "execute_result"
    }
   ],
   "source": [
    "data['passen_type'].describe()"
   ]
  },
  {
   "cell_type": "code",
   "execution_count": 122,
   "metadata": {},
   "outputs": [],
   "source": [
    "data['dur'] = data['dur'].str.strip('minutes')"
   ]
  },
  {
   "cell_type": "code",
   "execution_count": 123,
   "metadata": {},
   "outputs": [
    {
     "data": {
      "text/html": [
       "<div>\n",
       "<style scoped>\n",
       "    .dataframe tbody tr th:only-of-type {\n",
       "        vertical-align: middle;\n",
       "    }\n",
       "\n",
       "    .dataframe tbody tr th {\n",
       "        vertical-align: top;\n",
       "    }\n",
       "\n",
       "    .dataframe thead th {\n",
       "        text-align: right;\n",
       "    }\n",
       "</style>\n",
       "<table border=\"1\" class=\"dataframe\">\n",
       "  <thead>\n",
       "    <tr style=\"text-align: right;\">\n",
       "      <th></th>\n",
       "      <th>Unnamed: 0</th>\n",
       "      <th>dur</th>\n",
       "      <th>staA_id</th>\n",
       "      <th>staA_name</th>\n",
       "      <th>staB_id</th>\n",
       "      <th>staB_name</th>\n",
       "      <th>veh_id</th>\n",
       "      <th>passen_type</th>\n",
       "      <th>passen_gender</th>\n",
       "      <th>travel_date</th>\n",
       "      <th>travel_id</th>\n",
       "      <th>veh_count</th>\n",
       "    </tr>\n",
       "  </thead>\n",
       "  <tbody>\n",
       "    <tr>\n",
       "      <td>0</td>\n",
       "      <td>0</td>\n",
       "      <td>12</td>\n",
       "      <td>81</td>\n",
       "      <td>Berry St at 4th St</td>\n",
       "      <td>323</td>\n",
       "      <td>Broadway at Kearny</td>\n",
       "      <td>5480</td>\n",
       "      <td>2</td>\n",
       "      <td>Male</td>\n",
       "      <td>4/21/2017</td>\n",
       "      <td>16941</td>\n",
       "      <td>19</td>\n",
       "    </tr>\n",
       "    <tr>\n",
       "      <td>1</td>\n",
       "      <td>1</td>\n",
       "      <td>24</td>\n",
       "      <td>3</td>\n",
       "      <td>Powell St BART Station (Market St at 4th St)</td>\n",
       "      <td>118</td>\n",
       "      <td>Eureka Valley Recreation Center</td>\n",
       "      <td>5193</td>\n",
       "      <td>2</td>\n",
       "      <td>Male</td>\n",
       "      <td>2/13/2020</td>\n",
       "      <td>7334</td>\n",
       "      <td>16</td>\n",
       "    </tr>\n",
       "    <tr>\n",
       "      <td>2</td>\n",
       "      <td>2</td>\n",
       "      <td>8</td>\n",
       "      <td>67</td>\n",
       "      <td>San Francisco Caltrain Station 2  (Townsend St...</td>\n",
       "      <td>23</td>\n",
       "      <td>The Embarcadero at Steuart St</td>\n",
       "      <td>3652</td>\n",
       "      <td>3</td>\n",
       "      <td>Male</td>\n",
       "      <td>6/25/2020</td>\n",
       "      <td>24934</td>\n",
       "      <td>27</td>\n",
       "    </tr>\n",
       "    <tr>\n",
       "      <td>3</td>\n",
       "      <td>3</td>\n",
       "      <td>4</td>\n",
       "      <td>16</td>\n",
       "      <td>Steuart St at Market St</td>\n",
       "      <td>28</td>\n",
       "      <td>The Embarcadero at Bryant St</td>\n",
       "      <td>1883</td>\n",
       "      <td>1</td>\n",
       "      <td>Male</td>\n",
       "      <td>10/8/2021</td>\n",
       "      <td>25532</td>\n",
       "      <td>27</td>\n",
       "    </tr>\n",
       "    <tr>\n",
       "      <td>4</td>\n",
       "      <td>4</td>\n",
       "      <td>11</td>\n",
       "      <td>22</td>\n",
       "      <td>Howard St at Beale St</td>\n",
       "      <td>350</td>\n",
       "      <td>8th St at Brannan St</td>\n",
       "      <td>4626</td>\n",
       "      <td>2</td>\n",
       "      <td>Male</td>\n",
       "      <td>12/14/2019</td>\n",
       "      <td>7385</td>\n",
       "      <td>29</td>\n",
       "    </tr>\n",
       "  </tbody>\n",
       "</table>\n",
       "</div>"
      ],
      "text/plain": [
       "   Unnamed: 0  dur  staA_id  \\\n",
       "0           0  12        81   \n",
       "1           1  24         3   \n",
       "2           2   8        67   \n",
       "3           3   4        16   \n",
       "4           4  11        22   \n",
       "\n",
       "                                           staA_name  staB_id  \\\n",
       "0                                 Berry St at 4th St      323   \n",
       "1       Powell St BART Station (Market St at 4th St)      118   \n",
       "2  San Francisco Caltrain Station 2  (Townsend St...       23   \n",
       "3                            Steuart St at Market St       28   \n",
       "4                              Howard St at Beale St      350   \n",
       "\n",
       "                         staB_name  veh_id passen_type passen_gender  \\\n",
       "0               Broadway at Kearny    5480           2          Male   \n",
       "1  Eureka Valley Recreation Center    5193           2          Male   \n",
       "2    The Embarcadero at Steuart St    3652           3          Male   \n",
       "3     The Embarcadero at Bryant St    1883           1          Male   \n",
       "4             8th St at Brannan St    4626           2          Male   \n",
       "\n",
       "  travel_date  travel_id  veh_count  \n",
       "0   4/21/2017      16941         19  \n",
       "1   2/13/2020       7334         16  \n",
       "2   6/25/2020      24934         27  \n",
       "3   10/8/2021      25532         27  \n",
       "4  12/14/2019       7385         29  "
      ]
     },
     "execution_count": 123,
     "metadata": {},
     "output_type": "execute_result"
    }
   ],
   "source": [
    "data.head()"
   ]
  },
  {
   "cell_type": "code",
   "execution_count": 124,
   "metadata": {},
   "outputs": [
    {
     "data": {
      "text/plain": [
       "count     25760\n",
       "unique      172\n",
       "top          7 \n",
       "freq       2322\n",
       "Name: dur, dtype: object"
      ]
     },
     "execution_count": 124,
     "metadata": {},
     "output_type": "execute_result"
    }
   ],
   "source": [
    "data['dur'].describe()"
   ]
  },
  {
   "cell_type": "code",
   "execution_count": 125,
   "metadata": {},
   "outputs": [],
   "source": [
    "data['dur'] = data['dur'].astype('int')\n",
    "assert data['dur'].dtype == 'int'"
   ]
  },
  {
   "cell_type": "code",
   "execution_count": 126,
   "metadata": {},
   "outputs": [
    {
     "data": {
      "text/plain": [
       "count    25760.000000\n",
       "mean        11.389053\n",
       "std         23.500516\n",
       "min          1.000000\n",
       "25%          6.000000\n",
       "50%          9.000000\n",
       "75%         13.000000\n",
       "max       1372.000000\n",
       "Name: dur, dtype: float64"
      ]
     },
     "execution_count": 126,
     "metadata": {},
     "output_type": "execute_result"
    }
   ],
   "source": [
    "data['dur'].describe()"
   ]
  },
  {
   "cell_type": "code",
   "execution_count": 136,
   "metadata": {},
   "outputs": [],
   "source": [
    "# new obj : "
   ]
  },
  {
   "cell_type": "code",
   "execution_count": 128,
   "metadata": {},
   "outputs": [
    {
     "data": {
      "text/plain": [
       "0        19\n",
       "1        16\n",
       "2        27\n",
       "3        27\n",
       "4        29\n",
       "         ..\n",
       "25755     8\n",
       "25756    25\n",
       "25757    38\n",
       "25758    25\n",
       "25759    20\n",
       "Name: veh_count, Length: 25760, dtype: int64"
      ]
     },
     "execution_count": 128,
     "metadata": {},
     "output_type": "execute_result"
    }
   ],
   "source": [
    "a = data['veh_count']\n",
    "a "
   ]
  },
  {
   "cell_type": "code",
   "execution_count": 135,
   "metadata": {},
   "outputs": [
    {
     "data": {
      "text/plain": [
       "0        False\n",
       "1        False\n",
       "2         True\n",
       "3         True\n",
       "4         True\n",
       "         ...  \n",
       "25755    False\n",
       "25756    False\n",
       "25757     True\n",
       "25758    False\n",
       "25759    False\n",
       "Name: veh_count, Length: 25760, dtype: bool"
      ]
     },
     "execution_count": 135,
     "metadata": {},
     "output_type": "execute_result"
    }
   ],
   "source": [
    "b = a > 25\n",
    "b "
   ]
  },
  {
   "cell_type": "code",
   "execution_count": 138,
   "metadata": {},
   "outputs": [
    {
     "data": {
      "text/plain": [
       "2        27\n",
       "3        27\n",
       "4        29\n",
       "7        32\n",
       "8        29\n",
       "         ..\n",
       "25744    39\n",
       "25749    32\n",
       "25751    35\n",
       "25754    31\n",
       "25757    38\n",
       "Name: veh_count, Length: 9193, dtype: int64"
      ]
     },
     "execution_count": 138,
     "metadata": {},
     "output_type": "execute_result"
    }
   ],
   "source": [
    "c = a[b]\n",
    "c"
   ]
  },
  {
   "cell_type": "code",
   "execution_count": null,
   "metadata": {},
   "outputs": [],
   "source": []
  },
  {
   "cell_type": "code",
   "execution_count": null,
   "metadata": {},
   "outputs": [],
   "source": []
  },
  {
   "cell_type": "code",
   "execution_count": 139,
   "metadata": {},
   "outputs": [],
   "source": [
    "data.loc[data['veh_count'] > 25 , 'veh_count'] = 25"
   ]
  },
  {
   "cell_type": "code",
   "execution_count": null,
   "metadata": {},
   "outputs": [],
   "source": []
  },
  {
   "cell_type": "code",
   "execution_count": null,
   "metadata": {},
   "outputs": [],
   "source": []
  },
  {
   "cell_type": "code",
   "execution_count": null,
   "metadata": {},
   "outputs": [],
   "source": []
  },
  {
   "cell_type": "code",
   "execution_count": null,
   "metadata": {},
   "outputs": [],
   "source": []
  },
  {
   "cell_type": "code",
   "execution_count": 81,
   "metadata": {
    "scrolled": true
   },
   "outputs": [
    {
     "data": {
      "text/plain": [
       "0"
      ]
     },
     "execution_count": 81,
     "metadata": {},
     "output_type": "execute_result"
    }
   ],
   "source": [
    "data['veh_count'][data['veh_count'] > 25].size"
   ]
  },
  {
   "cell_type": "code",
   "execution_count": 146,
   "metadata": {},
   "outputs": [
    {
     "data": {
      "text/plain": [
       "datetime.date(2020, 12, 10)"
      ]
     },
     "execution_count": 146,
     "metadata": {},
     "output_type": "execute_result"
    }
   ],
   "source": [
    "import datetime as dt\n",
    "today = dt.date.today()\n",
    "today "
   ]
  },
  {
   "cell_type": "code",
   "execution_count": 148,
   "metadata": {},
   "outputs": [],
   "source": [
    "data['travel_date'] = pd.to_datetime(data['travel_date']) "
   ]
  },
  {
   "cell_type": "code",
   "execution_count": 150,
   "metadata": {},
   "outputs": [
    {
     "data": {
      "text/plain": [
       "Timestamp('2021-12-28 00:00:00')"
      ]
     },
     "execution_count": 150,
     "metadata": {},
     "output_type": "execute_result"
    }
   ],
   "source": [
    "data['travel_date'].max()"
   ]
  },
  {
   "cell_type": "code",
   "execution_count": 151,
   "metadata": {},
   "outputs": [
    {
     "name": "stderr",
     "output_type": "stream",
     "text": [
      "C:\\ProgramData\\Anaconda3\\lib\\site-packages\\ipykernel_launcher.py:1: FutureWarning: Comparing Series of datetimes with 'datetime.date'.  Currently, the\n",
      "'datetime.date' is coerced to a datetime. In the future pandas will\n",
      "not coerce, and a TypeError will be raised. To retain the current\n",
      "behavior, convert the 'datetime.date' to a datetime with\n",
      "'pd.Timestamp'.\n",
      "  \"\"\"Entry point for launching an IPython kernel.\n"
     ]
    }
   ],
   "source": [
    "data.loc[data['travel_date'] > today, 'travel_date'] = today"
   ]
  },
  {
   "cell_type": "code",
   "execution_count": 152,
   "metadata": {},
   "outputs": [
    {
     "data": {
      "text/plain": [
       "Timestamp('2020-12-10 00:00:00')"
      ]
     },
     "execution_count": 152,
     "metadata": {},
     "output_type": "execute_result"
    }
   ],
   "source": [
    "data['travel_date'].max()"
   ]
  },
  {
   "cell_type": "code",
   "execution_count": 87,
   "metadata": {},
   "outputs": [
    {
     "data": {
      "text/html": [
       "<div>\n",
       "<style scoped>\n",
       "    .dataframe tbody tr th:only-of-type {\n",
       "        vertical-align: middle;\n",
       "    }\n",
       "\n",
       "    .dataframe tbody tr th {\n",
       "        vertical-align: top;\n",
       "    }\n",
       "\n",
       "    .dataframe thead th {\n",
       "        text-align: right;\n",
       "    }\n",
       "</style>\n",
       "<table border=\"1\" class=\"dataframe\">\n",
       "  <thead>\n",
       "    <tr style=\"text-align: right;\">\n",
       "      <th></th>\n",
       "      <th>Unnamed: 0</th>\n",
       "      <th>dur</th>\n",
       "      <th>staA_id</th>\n",
       "      <th>staA_name</th>\n",
       "      <th>staB_id</th>\n",
       "      <th>staB_name</th>\n",
       "      <th>veh_id</th>\n",
       "      <th>passen_type</th>\n",
       "      <th>passen_gender</th>\n",
       "      <th>travel_date</th>\n",
       "      <th>travel_id</th>\n",
       "      <th>veh_count</th>\n",
       "    </tr>\n",
       "  </thead>\n",
       "  <tbody>\n",
       "    <tr>\n",
       "      <td>0</td>\n",
       "      <td>0</td>\n",
       "      <td>12</td>\n",
       "      <td>81</td>\n",
       "      <td>Berry St at 4th St</td>\n",
       "      <td>323</td>\n",
       "      <td>Broadway at Kearny</td>\n",
       "      <td>5480</td>\n",
       "      <td>2</td>\n",
       "      <td>Male</td>\n",
       "      <td>2017-04-21</td>\n",
       "      <td>16941</td>\n",
       "      <td>19</td>\n",
       "    </tr>\n",
       "    <tr>\n",
       "      <td>1</td>\n",
       "      <td>1</td>\n",
       "      <td>24</td>\n",
       "      <td>3</td>\n",
       "      <td>Powell St BART Station (Market St at 4th St)</td>\n",
       "      <td>118</td>\n",
       "      <td>Eureka Valley Recreation Center</td>\n",
       "      <td>5193</td>\n",
       "      <td>2</td>\n",
       "      <td>Male</td>\n",
       "      <td>2020-02-13</td>\n",
       "      <td>7334</td>\n",
       "      <td>16</td>\n",
       "    </tr>\n",
       "    <tr>\n",
       "      <td>2</td>\n",
       "      <td>2</td>\n",
       "      <td>8</td>\n",
       "      <td>67</td>\n",
       "      <td>San Francisco Caltrain Station 2  (Townsend St...</td>\n",
       "      <td>23</td>\n",
       "      <td>The Embarcadero at Steuart St</td>\n",
       "      <td>3652</td>\n",
       "      <td>3</td>\n",
       "      <td>Male</td>\n",
       "      <td>2020-06-25</td>\n",
       "      <td>24934</td>\n",
       "      <td>27</td>\n",
       "    </tr>\n",
       "    <tr>\n",
       "      <td>3</td>\n",
       "      <td>3</td>\n",
       "      <td>4</td>\n",
       "      <td>16</td>\n",
       "      <td>Steuart St at Market St</td>\n",
       "      <td>28</td>\n",
       "      <td>The Embarcadero at Bryant St</td>\n",
       "      <td>1883</td>\n",
       "      <td>1</td>\n",
       "      <td>Male</td>\n",
       "      <td>2020-12-10</td>\n",
       "      <td>25532</td>\n",
       "      <td>27</td>\n",
       "    </tr>\n",
       "    <tr>\n",
       "      <td>4</td>\n",
       "      <td>4</td>\n",
       "      <td>11</td>\n",
       "      <td>22</td>\n",
       "      <td>Howard St at Beale St</td>\n",
       "      <td>350</td>\n",
       "      <td>8th St at Brannan St</td>\n",
       "      <td>4626</td>\n",
       "      <td>2</td>\n",
       "      <td>Male</td>\n",
       "      <td>2019-12-14</td>\n",
       "      <td>7385</td>\n",
       "      <td>27</td>\n",
       "    </tr>\n",
       "  </tbody>\n",
       "</table>\n",
       "</div>"
      ],
      "text/plain": [
       "   Unnamed: 0  dur  staA_id  \\\n",
       "0           0   12       81   \n",
       "1           1   24        3   \n",
       "2           2    8       67   \n",
       "3           3    4       16   \n",
       "4           4   11       22   \n",
       "\n",
       "                                           staA_name  staB_id  \\\n",
       "0                                 Berry St at 4th St      323   \n",
       "1       Powell St BART Station (Market St at 4th St)      118   \n",
       "2  San Francisco Caltrain Station 2  (Townsend St...       23   \n",
       "3                            Steuart St at Market St       28   \n",
       "4                              Howard St at Beale St      350   \n",
       "\n",
       "                         staB_name  veh_id passen_type passen_gender  \\\n",
       "0               Broadway at Kearny    5480           2          Male   \n",
       "1  Eureka Valley Recreation Center    5193           2          Male   \n",
       "2    The Embarcadero at Steuart St    3652           3          Male   \n",
       "3     The Embarcadero at Bryant St    1883           1          Male   \n",
       "4             8th St at Brannan St    4626           2          Male   \n",
       "\n",
       "  travel_date  travel_id  veh_count  \n",
       "0  2017-04-21      16941         19  \n",
       "1  2020-02-13       7334         16  \n",
       "2  2020-06-25      24934         27  \n",
       "3  2020-12-10      25532         27  \n",
       "4  2019-12-14       7385         27  "
      ]
     },
     "execution_count": 87,
     "metadata": {},
     "output_type": "execute_result"
    }
   ],
   "source": [
    "data.head()"
   ]
  },
  {
   "cell_type": "code",
   "execution_count": 88,
   "metadata": {},
   "outputs": [
    {
     "data": {
      "text/plain": [
       "0        16941\n",
       "1         7334\n",
       "2        24934\n",
       "3        25532\n",
       "4         7385\n",
       "         ...  \n",
       "25755     6015\n",
       "25756    13437\n",
       "25757    21163\n",
       "25758     2598\n",
       "25759    12320\n",
       "Name: travel_id, Length: 25760, dtype: int64"
      ]
     },
     "execution_count": 88,
     "metadata": {},
     "output_type": "execute_result"
    }
   ],
   "source": [
    "data['travel_id']"
   ]
  },
  {
   "cell_type": "code",
   "execution_count": 89,
   "metadata": {},
   "outputs": [
    {
     "data": {
      "text/plain": [
       "(25760, 12)"
      ]
     },
     "execution_count": 89,
     "metadata": {},
     "output_type": "execute_result"
    }
   ],
   "source": [
    "data.shape"
   ]
  },
  {
   "cell_type": "code",
   "execution_count": 90,
   "metadata": {},
   "outputs": [
    {
     "data": {
      "text/plain": [
       "0        False\n",
       "1        False\n",
       "2         True\n",
       "3         True\n",
       "4        False\n",
       "         ...  \n",
       "25755     True\n",
       "25756    False\n",
       "25757    False\n",
       "25758     True\n",
       "25759     True\n",
       "Length: 25760, dtype: bool"
      ]
     },
     "execution_count": 90,
     "metadata": {},
     "output_type": "execute_result"
    }
   ],
   "source": [
    "duplicates = data.duplicated(subset='travel_id', keep=False)\n",
    "duplicates"
   ]
  },
  {
   "cell_type": "code",
   "execution_count": 91,
   "metadata": {},
   "outputs": [
    {
     "data": {
      "text/plain": [
       "2        24934\n",
       "3        25532\n",
       "5        12525\n",
       "6         6673\n",
       "9         9218\n",
       "         ...  \n",
       "25753    19174\n",
       "25754     3437\n",
       "25755     6015\n",
       "25758     2598\n",
       "25759    12320\n",
       "Name: travel_id, Length: 16394, dtype: int64"
      ]
     },
     "execution_count": 91,
     "metadata": {},
     "output_type": "execute_result"
    }
   ],
   "source": [
    "data['travel_id'][duplicates]"
   ]
  },
  {
   "cell_type": "code",
   "execution_count": 92,
   "metadata": {},
   "outputs": [
    {
     "data": {
      "text/plain": [
       "9532         0\n",
       "20880        0\n",
       "8089         2\n",
       "4657         2\n",
       "18997        2\n",
       "         ...  \n",
       "20844    25755\n",
       "10179    25755\n",
       "6717     25755\n",
       "2105     25758\n",
       "15498    25758\n",
       "Name: travel_id, Length: 16394, dtype: int64"
      ]
     },
     "execution_count": 92,
     "metadata": {},
     "output_type": "execute_result"
    }
   ],
   "source": [
    "data['travel_id'][duplicates].sort_values()"
   ]
  },
  {
   "cell_type": "code",
   "execution_count": 93,
   "metadata": {},
   "outputs": [
    {
     "data": {
      "text/plain": [
       "16394"
      ]
     },
     "execution_count": 93,
     "metadata": {},
     "output_type": "execute_result"
    }
   ],
   "source": [
    "data['travel_id'][duplicates].sort_values().size"
   ]
  },
  {
   "cell_type": "code",
   "execution_count": 94,
   "metadata": {},
   "outputs": [
    {
     "data": {
      "text/html": [
       "<div>\n",
       "<style scoped>\n",
       "    .dataframe tbody tr th:only-of-type {\n",
       "        vertical-align: middle;\n",
       "    }\n",
       "\n",
       "    .dataframe tbody tr th {\n",
       "        vertical-align: top;\n",
       "    }\n",
       "\n",
       "    .dataframe thead th {\n",
       "        text-align: right;\n",
       "    }\n",
       "</style>\n",
       "<table border=\"1\" class=\"dataframe\">\n",
       "  <thead>\n",
       "    <tr style=\"text-align: right;\">\n",
       "      <th></th>\n",
       "      <th>Unnamed: 0</th>\n",
       "      <th>dur</th>\n",
       "      <th>staA_id</th>\n",
       "      <th>staA_name</th>\n",
       "      <th>staB_id</th>\n",
       "      <th>staB_name</th>\n",
       "      <th>veh_id</th>\n",
       "      <th>passen_type</th>\n",
       "      <th>passen_gender</th>\n",
       "      <th>travel_date</th>\n",
       "      <th>travel_id</th>\n",
       "      <th>veh_count</th>\n",
       "    </tr>\n",
       "  </thead>\n",
       "  <tbody>\n",
       "    <tr>\n",
       "      <td>9532</td>\n",
       "      <td>9532</td>\n",
       "      <td>9</td>\n",
       "      <td>81</td>\n",
       "      <td>Berry St at 4th St</td>\n",
       "      <td>355</td>\n",
       "      <td>23rd St at Tennessee St</td>\n",
       "      <td>5230</td>\n",
       "      <td>2</td>\n",
       "      <td>Male</td>\n",
       "      <td>2018-05-04</td>\n",
       "      <td>0</td>\n",
       "      <td>27</td>\n",
       "    </tr>\n",
       "    <tr>\n",
       "      <td>20880</td>\n",
       "      <td>20880</td>\n",
       "      <td>9</td>\n",
       "      <td>67</td>\n",
       "      <td>San Francisco Caltrain Station 2  (Townsend St...</td>\n",
       "      <td>21</td>\n",
       "      <td>Montgomery St BART Station (Market St at 2nd St)</td>\n",
       "      <td>5332</td>\n",
       "      <td>2</td>\n",
       "      <td>Male</td>\n",
       "      <td>2018-10-28</td>\n",
       "      <td>0</td>\n",
       "      <td>27</td>\n",
       "    </tr>\n",
       "    <tr>\n",
       "      <td>8089</td>\n",
       "      <td>8089</td>\n",
       "      <td>13</td>\n",
       "      <td>16</td>\n",
       "      <td>Steuart St at Market St</td>\n",
       "      <td>93</td>\n",
       "      <td>4th St at Mission Bay Blvd S</td>\n",
       "      <td>2784</td>\n",
       "      <td>1</td>\n",
       "      <td>Female</td>\n",
       "      <td>2018-06-21</td>\n",
       "      <td>2</td>\n",
       "      <td>3</td>\n",
       "    </tr>\n",
       "    <tr>\n",
       "      <td>4657</td>\n",
       "      <td>4657</td>\n",
       "      <td>21</td>\n",
       "      <td>15</td>\n",
       "      <td>San Francisco Ferry Building (Harry Bridges Pl...</td>\n",
       "      <td>101</td>\n",
       "      <td>15th St at Potrero Ave</td>\n",
       "      <td>5470</td>\n",
       "      <td>2</td>\n",
       "      <td>Other</td>\n",
       "      <td>2019-03-08</td>\n",
       "      <td>2</td>\n",
       "      <td>13</td>\n",
       "    </tr>\n",
       "    <tr>\n",
       "      <td>18997</td>\n",
       "      <td>18997</td>\n",
       "      <td>1</td>\n",
       "      <td>21</td>\n",
       "      <td>Montgomery St BART Station (Market St at 2nd St)</td>\n",
       "      <td>363</td>\n",
       "      <td>Salesforce Transit Center (Natoma St at 2nd St)</td>\n",
       "      <td>5358</td>\n",
       "      <td>2</td>\n",
       "      <td>Male</td>\n",
       "      <td>2018-03-21</td>\n",
       "      <td>2</td>\n",
       "      <td>10</td>\n",
       "    </tr>\n",
       "    <tr>\n",
       "      <td>...</td>\n",
       "      <td>...</td>\n",
       "      <td>...</td>\n",
       "      <td>...</td>\n",
       "      <td>...</td>\n",
       "      <td>...</td>\n",
       "      <td>...</td>\n",
       "      <td>...</td>\n",
       "      <td>...</td>\n",
       "      <td>...</td>\n",
       "      <td>...</td>\n",
       "      <td>...</td>\n",
       "      <td>...</td>\n",
       "    </tr>\n",
       "    <tr>\n",
       "      <td>20844</td>\n",
       "      <td>20844</td>\n",
       "      <td>26</td>\n",
       "      <td>81</td>\n",
       "      <td>Berry St at 4th St</td>\n",
       "      <td>81</td>\n",
       "      <td>Berry St at 4th St</td>\n",
       "      <td>5200</td>\n",
       "      <td>3</td>\n",
       "      <td>Male</td>\n",
       "      <td>2019-03-22</td>\n",
       "      <td>25755</td>\n",
       "      <td>14</td>\n",
       "    </tr>\n",
       "    <tr>\n",
       "      <td>10179</td>\n",
       "      <td>10179</td>\n",
       "      <td>3</td>\n",
       "      <td>21</td>\n",
       "      <td>Montgomery St BART Station (Market St at 2nd St)</td>\n",
       "      <td>15</td>\n",
       "      <td>San Francisco Ferry Building (Harry Bridges Pl...</td>\n",
       "      <td>5408</td>\n",
       "      <td>1</td>\n",
       "      <td>Other</td>\n",
       "      <td>2020-12-10</td>\n",
       "      <td>25755</td>\n",
       "      <td>12</td>\n",
       "    </tr>\n",
       "    <tr>\n",
       "      <td>6717</td>\n",
       "      <td>6717</td>\n",
       "      <td>7</td>\n",
       "      <td>3</td>\n",
       "      <td>Powell St BART Station (Market St at 4th St)</td>\n",
       "      <td>58</td>\n",
       "      <td>Market St at 10th St</td>\n",
       "      <td>5557</td>\n",
       "      <td>3</td>\n",
       "      <td>Male</td>\n",
       "      <td>2017-12-07</td>\n",
       "      <td>25755</td>\n",
       "      <td>3</td>\n",
       "    </tr>\n",
       "    <tr>\n",
       "      <td>2105</td>\n",
       "      <td>2105</td>\n",
       "      <td>20</td>\n",
       "      <td>30</td>\n",
       "      <td>San Francisco Caltrain (Townsend St at 4th St)</td>\n",
       "      <td>16</td>\n",
       "      <td>Steuart St at Market St</td>\n",
       "      <td>3364</td>\n",
       "      <td>2</td>\n",
       "      <td>Male</td>\n",
       "      <td>2020-04-15</td>\n",
       "      <td>25758</td>\n",
       "      <td>8</td>\n",
       "    </tr>\n",
       "    <tr>\n",
       "      <td>15498</td>\n",
       "      <td>15498</td>\n",
       "      <td>22</td>\n",
       "      <td>3</td>\n",
       "      <td>Powell St BART Station (Market St at 4th St)</td>\n",
       "      <td>137</td>\n",
       "      <td>Jersey St at Castro St</td>\n",
       "      <td>4719</td>\n",
       "      <td>1</td>\n",
       "      <td>Male</td>\n",
       "      <td>2020-12-10</td>\n",
       "      <td>25758</td>\n",
       "      <td>7</td>\n",
       "    </tr>\n",
       "  </tbody>\n",
       "</table>\n",
       "<p>16394 rows × 12 columns</p>\n",
       "</div>"
      ],
      "text/plain": [
       "       Unnamed: 0  dur  staA_id  \\\n",
       "9532         9532    9       81   \n",
       "20880       20880    9       67   \n",
       "8089         8089   13       16   \n",
       "4657         4657   21       15   \n",
       "18997       18997    1       21   \n",
       "...           ...  ...      ...   \n",
       "20844       20844   26       81   \n",
       "10179       10179    3       21   \n",
       "6717         6717    7        3   \n",
       "2105         2105   20       30   \n",
       "15498       15498   22        3   \n",
       "\n",
       "                                               staA_name  staB_id  \\\n",
       "9532                                  Berry St at 4th St      355   \n",
       "20880  San Francisco Caltrain Station 2  (Townsend St...       21   \n",
       "8089                             Steuart St at Market St       93   \n",
       "4657   San Francisco Ferry Building (Harry Bridges Pl...      101   \n",
       "18997   Montgomery St BART Station (Market St at 2nd St)      363   \n",
       "...                                                  ...      ...   \n",
       "20844                                 Berry St at 4th St       81   \n",
       "10179   Montgomery St BART Station (Market St at 2nd St)       15   \n",
       "6717        Powell St BART Station (Market St at 4th St)       58   \n",
       "2105      San Francisco Caltrain (Townsend St at 4th St)       16   \n",
       "15498       Powell St BART Station (Market St at 4th St)      137   \n",
       "\n",
       "                                               staB_name  veh_id passen_type  \\\n",
       "9532                             23rd St at Tennessee St    5230           2   \n",
       "20880   Montgomery St BART Station (Market St at 2nd St)    5332           2   \n",
       "8089                        4th St at Mission Bay Blvd S    2784           1   \n",
       "4657                              15th St at Potrero Ave    5470           2   \n",
       "18997    Salesforce Transit Center (Natoma St at 2nd St)    5358           2   \n",
       "...                                                  ...     ...         ...   \n",
       "20844                                 Berry St at 4th St    5200           3   \n",
       "10179  San Francisco Ferry Building (Harry Bridges Pl...    5408           1   \n",
       "6717                                Market St at 10th St    5557           3   \n",
       "2105                             Steuart St at Market St    3364           2   \n",
       "15498                             Jersey St at Castro St    4719           1   \n",
       "\n",
       "      passen_gender travel_date  travel_id  veh_count  \n",
       "9532           Male  2018-05-04          0         27  \n",
       "20880          Male  2018-10-28          0         27  \n",
       "8089         Female  2018-06-21          2          3  \n",
       "4657          Other  2019-03-08          2         13  \n",
       "18997          Male  2018-03-21          2         10  \n",
       "...             ...         ...        ...        ...  \n",
       "20844          Male  2019-03-22      25755         14  \n",
       "10179         Other  2020-12-10      25755         12  \n",
       "6717           Male  2017-12-07      25755          3  \n",
       "2105           Male  2020-04-15      25758          8  \n",
       "15498          Male  2020-12-10      25758          7  \n",
       "\n",
       "[16394 rows x 12 columns]"
      ]
     },
     "execution_count": 94,
     "metadata": {},
     "output_type": "execute_result"
    }
   ],
   "source": [
    "duplicated_rides = data[duplicates].sort_values('travel_id')\n",
    "duplicated_rides"
   ]
  },
  {
   "cell_type": "code",
   "execution_count": 95,
   "metadata": {},
   "outputs": [
    {
     "data": {
      "text/plain": [
       "array([    0,     2,     5, ..., 25753, 25755, 25758], dtype=int64)"
      ]
     },
     "execution_count": 95,
     "metadata": {},
     "output_type": "execute_result"
    }
   ],
   "source": [
    "data['travel_id'][duplicates].sort_values().unique()"
   ]
  },
  {
   "cell_type": "code",
   "execution_count": 96,
   "metadata": {},
   "outputs": [
    {
     "data": {
      "text/plain": [
       "6869"
      ]
     },
     "execution_count": 96,
     "metadata": {},
     "output_type": "execute_result"
    }
   ],
   "source": [
    "data['travel_id'][duplicates].sort_values().unique().size"
   ]
  },
  {
   "cell_type": "code",
   "execution_count": 97,
   "metadata": {},
   "outputs": [
    {
     "data": {
      "text/plain": [
       "(25760, 12)"
      ]
     },
     "execution_count": 97,
     "metadata": {},
     "output_type": "execute_result"
    }
   ],
   "source": [
    "data.shape"
   ]
  },
  {
   "cell_type": "code",
   "execution_count": 98,
   "metadata": {},
   "outputs": [],
   "source": [
    "data = data.drop_duplicates('travel_id')"
   ]
  },
  {
   "cell_type": "code",
   "execution_count": 99,
   "metadata": {},
   "outputs": [
    {
     "data": {
      "text/html": [
       "<div>\n",
       "<style scoped>\n",
       "    .dataframe tbody tr th:only-of-type {\n",
       "        vertical-align: middle;\n",
       "    }\n",
       "\n",
       "    .dataframe tbody tr th {\n",
       "        vertical-align: top;\n",
       "    }\n",
       "\n",
       "    .dataframe thead th {\n",
       "        text-align: right;\n",
       "    }\n",
       "</style>\n",
       "<table border=\"1\" class=\"dataframe\">\n",
       "  <thead>\n",
       "    <tr style=\"text-align: right;\">\n",
       "      <th></th>\n",
       "      <th>Unnamed: 0</th>\n",
       "      <th>dur</th>\n",
       "      <th>staA_id</th>\n",
       "      <th>staA_name</th>\n",
       "      <th>staB_id</th>\n",
       "      <th>staB_name</th>\n",
       "      <th>veh_id</th>\n",
       "      <th>passen_type</th>\n",
       "      <th>passen_gender</th>\n",
       "      <th>travel_date</th>\n",
       "      <th>travel_id</th>\n",
       "      <th>veh_count</th>\n",
       "    </tr>\n",
       "  </thead>\n",
       "  <tbody>\n",
       "    <tr>\n",
       "      <td>0</td>\n",
       "      <td>0</td>\n",
       "      <td>12</td>\n",
       "      <td>81</td>\n",
       "      <td>Berry St at 4th St</td>\n",
       "      <td>323</td>\n",
       "      <td>Broadway at Kearny</td>\n",
       "      <td>5480</td>\n",
       "      <td>2</td>\n",
       "      <td>Male</td>\n",
       "      <td>2017-04-21</td>\n",
       "      <td>16941</td>\n",
       "      <td>19</td>\n",
       "    </tr>\n",
       "    <tr>\n",
       "      <td>1</td>\n",
       "      <td>1</td>\n",
       "      <td>24</td>\n",
       "      <td>3</td>\n",
       "      <td>Powell St BART Station (Market St at 4th St)</td>\n",
       "      <td>118</td>\n",
       "      <td>Eureka Valley Recreation Center</td>\n",
       "      <td>5193</td>\n",
       "      <td>2</td>\n",
       "      <td>Male</td>\n",
       "      <td>2020-02-13</td>\n",
       "      <td>7334</td>\n",
       "      <td>16</td>\n",
       "    </tr>\n",
       "    <tr>\n",
       "      <td>2</td>\n",
       "      <td>2</td>\n",
       "      <td>8</td>\n",
       "      <td>67</td>\n",
       "      <td>San Francisco Caltrain Station 2  (Townsend St...</td>\n",
       "      <td>23</td>\n",
       "      <td>The Embarcadero at Steuart St</td>\n",
       "      <td>3652</td>\n",
       "      <td>3</td>\n",
       "      <td>Male</td>\n",
       "      <td>2020-06-25</td>\n",
       "      <td>24934</td>\n",
       "      <td>27</td>\n",
       "    </tr>\n",
       "    <tr>\n",
       "      <td>3</td>\n",
       "      <td>3</td>\n",
       "      <td>4</td>\n",
       "      <td>16</td>\n",
       "      <td>Steuart St at Market St</td>\n",
       "      <td>28</td>\n",
       "      <td>The Embarcadero at Bryant St</td>\n",
       "      <td>1883</td>\n",
       "      <td>1</td>\n",
       "      <td>Male</td>\n",
       "      <td>2020-12-10</td>\n",
       "      <td>25532</td>\n",
       "      <td>27</td>\n",
       "    </tr>\n",
       "    <tr>\n",
       "      <td>4</td>\n",
       "      <td>4</td>\n",
       "      <td>11</td>\n",
       "      <td>22</td>\n",
       "      <td>Howard St at Beale St</td>\n",
       "      <td>350</td>\n",
       "      <td>8th St at Brannan St</td>\n",
       "      <td>4626</td>\n",
       "      <td>2</td>\n",
       "      <td>Male</td>\n",
       "      <td>2019-12-14</td>\n",
       "      <td>7385</td>\n",
       "      <td>27</td>\n",
       "    </tr>\n",
       "  </tbody>\n",
       "</table>\n",
       "</div>"
      ],
      "text/plain": [
       "   Unnamed: 0  dur  staA_id  \\\n",
       "0           0   12       81   \n",
       "1           1   24        3   \n",
       "2           2    8       67   \n",
       "3           3    4       16   \n",
       "4           4   11       22   \n",
       "\n",
       "                                           staA_name  staB_id  \\\n",
       "0                                 Berry St at 4th St      323   \n",
       "1       Powell St BART Station (Market St at 4th St)      118   \n",
       "2  San Francisco Caltrain Station 2  (Townsend St...       23   \n",
       "3                            Steuart St at Market St       28   \n",
       "4                              Howard St at Beale St      350   \n",
       "\n",
       "                         staB_name  veh_id passen_type passen_gender  \\\n",
       "0               Broadway at Kearny    5480           2          Male   \n",
       "1  Eureka Valley Recreation Center    5193           2          Male   \n",
       "2    The Embarcadero at Steuart St    3652           3          Male   \n",
       "3     The Embarcadero at Bryant St    1883           1          Male   \n",
       "4             8th St at Brannan St    4626           2          Male   \n",
       "\n",
       "  travel_date  travel_id  veh_count  \n",
       "0  2017-04-21      16941         19  \n",
       "1  2020-02-13       7334         16  \n",
       "2  2020-06-25      24934         27  \n",
       "3  2020-12-10      25532         27  \n",
       "4  2019-12-14       7385         27  "
      ]
     },
     "execution_count": 99,
     "metadata": {},
     "output_type": "execute_result"
    }
   ],
   "source": [
    "data.head()"
   ]
  },
  {
   "cell_type": "code",
   "execution_count": 100,
   "metadata": {},
   "outputs": [
    {
     "data": {
      "text/plain": [
       "(16235, 12)"
      ]
     },
     "execution_count": 100,
     "metadata": {},
     "output_type": "execute_result"
    }
   ],
   "source": [
    "data.shape"
   ]
  },
  {
   "cell_type": "code",
   "execution_count": 101,
   "metadata": {},
   "outputs": [
    {
     "data": {
      "text/plain": [
       "16235"
      ]
     },
     "execution_count": 101,
     "metadata": {},
     "output_type": "execute_result"
    }
   ],
   "source": [
    "25760 - 16394 + 6869 # total - duplicates + unique "
   ]
  },
  {
   "cell_type": "code",
   "execution_count": null,
   "metadata": {},
   "outputs": [],
   "source": []
  }
 ],
 "metadata": {
  "kernelspec": {
   "display_name": "Python 3",
   "language": "python",
   "name": "python3"
  },
  "language_info": {
   "codemirror_mode": {
    "name": "ipython",
    "version": 3
   },
   "file_extension": ".py",
   "mimetype": "text/x-python",
   "name": "python",
   "nbconvert_exporter": "python",
   "pygments_lexer": "ipython3",
   "version": "3.7.4"
  }
 },
 "nbformat": 4,
 "nbformat_minor": 2
}
