{
 "cells": [
  {
   "cell_type": "code",
   "execution_count": 4,
   "metadata": {},
   "outputs": [
    {
     "name": "stdout",
     "output_type": "stream",
     "text": [
      "Z is Divid by 2\n"
     ]
    }
   ],
   "source": [
    "z=6\n",
    "if z%2==0:\n",
    "    print(\"Z is Divid by 2\")\n",
    "elif z%3==0:\n",
    "    print(\"Z is Divid by 3\")\n",
    "else :\n",
    "    print(\"Z is not Divid bye 2 or 3\")\n"
   ]
  },
  {
   "cell_type": "code",
   "execution_count": 3,
   "metadata": {},
   "outputs": [
    {
     "name": "stdout",
     "output_type": "stream",
     "text": [
      "12.5\n",
      "3.125\n",
      "0.78125\n"
     ]
    }
   ],
   "source": [
    "e=50.0\n",
    "while e>1:\n",
    "    e=e/4\n",
    "    print(e)"
   ]
  },
  {
   "cell_type": "code",
   "execution_count": 7,
   "metadata": {},
   "outputs": [
    {
     "name": "stdout",
     "output_type": "stream",
     "text": [
      "1.73\n",
      "1.68\n",
      "1.71\n",
      "1.89\n"
     ]
    }
   ],
   "source": [
    "fam=[1.73,1.68,1.71,1.89]\n",
    "for height in fam:\n",
    "    print(height)"
   ]
  },
  {
   "cell_type": "code",
   "execution_count": 12,
   "metadata": {},
   "outputs": [
    {
     "name": "stdout",
     "output_type": "stream",
     "text": [
      "index0:1.73\n",
      "index1:1.68\n",
      "index2:1.71\n",
      "index3:1.89\n"
     ]
    }
   ],
   "source": [
    "for i, height in enumerate(fam):\n",
    "    print(\"index\" + str(i)+\":\"+ str(height))"
   ]
  },
  {
   "cell_type": "code",
   "execution_count": 15,
   "metadata": {},
   "outputs": [
    {
     "name": "stdout",
     "output_type": "stream",
     "text": [
      "F\n",
      "A\n",
      "M\n",
      "I\n",
      "L\n",
      "Y\n"
     ]
    }
   ],
   "source": [
    "for c in \"family\":\n",
    "    print(c.capitalize())"
   ]
  },
  {
   "cell_type": "code",
   "execution_count": 19,
   "metadata": {},
   "outputs": [
    {
     "name": "stdout",
     "output_type": "stream",
     "text": [
      "Afghanistan--30.55\n",
      "Albania--2.77\n",
      "Algeria--39.21\n"
     ]
    }
   ],
   "source": [
    "w={'Afghanistan':30.55,'Albania':2.77,'Algeria':39.21}\n",
    "for key, value in w.items():\n",
    "    print(key+\"--\"+str(value))"
   ]
  },
  {
   "cell_type": "code",
   "execution_count": 20,
   "metadata": {},
   "outputs": [
    {
     "name": "stdout",
     "output_type": "stream",
     "text": [
      "Afghanistan keys\n",
      "Albania keys\n",
      "Algeria keys\n"
     ]
    }
   ],
   "source": [
    "for each in w.keys():\n",
    "    print(each,'keys')"
   ]
  },
  {
   "cell_type": "code",
   "execution_count": 22,
   "metadata": {},
   "outputs": [
    {
     "name": "stdout",
     "output_type": "stream",
     "text": [
      "30.55 values\n",
      "2.77 values\n",
      "39.21 values\n"
     ]
    }
   ],
   "source": [
    "for each in w.values():\n",
    "    print(each,'values')"
   ]
  },
  {
   "cell_type": "code",
   "execution_count": 24,
   "metadata": {},
   "outputs": [
    {
     "name": "stdout",
     "output_type": "stream",
     "text": [
      "21.85171572722109\n",
      "24.518140589569164\n",
      "21.750282138093777\n",
      "24.635368550712467\n",
      "21.503698386442373\n"
     ]
    }
   ],
   "source": [
    "import numpy as np\n",
    "np_h=np.array([1.73,1.68,1.71,1.89,1.79])\n",
    "np_w=np.array([65.4,69.2,63.6,88.0,68.9])\n",
    "bmi=np_w/np_h**2\n",
    "for v in bmi:\n",
    "    print(v)"
   ]
  },
  {
   "cell_type": "code",
   "execution_count": 25,
   "metadata": {},
   "outputs": [
    {
     "name": "stdout",
     "output_type": "stream",
     "text": [
      "[21.85171573 24.51814059 21.75028214 24.63536855 21.50369839]\n"
     ]
    }
   ],
   "source": [
    "print(bmi)"
   ]
  },
  {
   "cell_type": "code",
   "execution_count": 26,
   "metadata": {},
   "outputs": [
    {
     "name": "stdout",
     "output_type": "stream",
     "text": [
      "[1.73 1.68 1.71 1.89 1.79]\n",
      "[65.4 69.2 63.6 88.  68.9]\n"
     ]
    }
   ],
   "source": [
    "import numpy as np\n",
    "np_h=np.array([1.73,1.68,1.71,1.89,1.79])\n",
    "np_w=np.array([65.4,69.2,63.6,88.0,68.9])\n",
    "meas =np.array([np_h,np_w])\n",
    "for v in meas:\n",
    "    print(v)"
   ]
  },
  {
   "cell_type": "code",
   "execution_count": 27,
   "metadata": {},
   "outputs": [
    {
     "data": {
      "text/plain": [
       "array([[ 1.73,  1.68,  1.71,  1.89,  1.79],\n",
       "       [65.4 , 69.2 , 63.6 , 88.  , 68.9 ]])"
      ]
     },
     "execution_count": 27,
     "metadata": {},
     "output_type": "execute_result"
    }
   ],
   "source": [
    "meas"
   ]
  },
  {
   "cell_type": "code",
   "execution_count": 30,
   "metadata": {},
   "outputs": [
    {
     "name": "stdout",
     "output_type": "stream",
     "text": [
      "1.73\n",
      "1.68\n",
      "1.71\n",
      "1.89\n",
      "1.79\n",
      "65.4\n",
      "69.2\n",
      "63.6\n",
      "88.0\n",
      "68.9\n"
     ]
    }
   ],
   "source": [
    "import numpy as np\n",
    "np_h=np.array([1.73,1.68,1.71,1.89,1.79])\n",
    "np_w=np.array([65.4,69.2,63.6,88.0,68.9])\n",
    "meas =np.array([np_h,np_w])\n",
    "for v in np.nditer(meas):\n",
    "    print(v)"
   ]
  },
  {
   "cell_type": "code",
   "execution_count": null,
   "metadata": {},
   "outputs": [],
   "source": []
  }
 ],
 "metadata": {
  "kernelspec": {
   "display_name": "Python 3",
   "language": "python",
   "name": "python3"
  },
  "language_info": {
   "codemirror_mode": {
    "name": "ipython",
    "version": 3
   },
   "file_extension": ".py",
   "mimetype": "text/x-python",
   "name": "python",
   "nbconvert_exporter": "python",
   "pygments_lexer": "ipython3",
   "version": "3.8.3"
  }
 },
 "nbformat": 4,
 "nbformat_minor": 4
}
