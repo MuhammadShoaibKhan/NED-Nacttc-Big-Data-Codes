{
 "cells": [
  {
   "cell_type": "code",
   "execution_count": 1,
   "metadata": {},
   "outputs": [],
   "source": [
    "# Date:   17 Nov 2020\n",
    "# Advance Python\n",
    "# Sir Enayat\n",
    "# NAVTTC Lecture 3.2\n",
    "# NED University of Engineering and Technology"
   ]
  },
  {
   "cell_type": "code",
   "execution_count": 1,
   "metadata": {},
   "outputs": [
    {
     "data": {
      "text/plain": [
       "'hello!!!'"
      ]
     },
     "execution_count": 1,
     "metadata": {},
     "output_type": "execute_result"
    }
   ],
   "source": [
    "abc = lambda x: x+'!!!'\n",
    "abc('hello')\n"
   ]
  },
  {
   "cell_type": "code",
   "execution_count": 2,
   "metadata": {},
   "outputs": [
    {
     "data": {
      "text/plain": [
       "'hellohellohello'"
      ]
     },
     "execution_count": 2,
     "metadata": {},
     "output_type": "execute_result"
    }
   ],
   "source": [
    "abc = lambda x, echo: x*echo\n",
    "abc('hello',3)"
   ]
  },
  {
   "cell_type": "code",
   "execution_count": 5,
   "metadata": {},
   "outputs": [
    {
     "name": "stdout",
     "output_type": "stream",
     "text": [
      "[1, 4, 9]\n"
     ]
    },
    {
     "data": {
      "text/plain": [
       "map"
      ]
     },
     "execution_count": 5,
     "metadata": {},
     "output_type": "execute_result"
    }
   ],
   "source": [
    "n = [1,2,3]\n",
    "m = map(lambda num: num**2,n)\n",
    "\n",
    "# map(func,elem) \n",
    "# map() return obj, so it is must to use list()\n",
    "#command after using map()\n",
    "print(list(m))    \n",
    "type(m)"
   ]
  },
  {
   "cell_type": "code",
   "execution_count": 6,
   "metadata": {},
   "outputs": [
    {
     "ename": "NameError",
     "evalue": "name 'a1' is not defined",
     "output_type": "error",
     "traceback": [
      "\u001b[1;31m---------------------------------------------------------------------------\u001b[0m",
      "\u001b[1;31mNameError\u001b[0m                                 Traceback (most recent call last)",
      "\u001b[1;32m<ipython-input-6-96f3b5cec32c>\u001b[0m in \u001b[0;36m<module>\u001b[1;34m\u001b[0m\n\u001b[0;32m      4\u001b[0m \u001b[1;33m\u001b[0m\u001b[0m\n\u001b[0;32m      5\u001b[0m \u001b[1;33m\u001b[0m\u001b[0m\n\u001b[1;32m----> 6\u001b[1;33m \u001b[0mprint\u001b[0m\u001b[1;33m(\u001b[0m\u001b[0mlist\u001b[0m\u001b[1;33m(\u001b[0m\u001b[0ma1\u001b[0m\u001b[1;33m)\u001b[0m\u001b[1;33m)\u001b[0m\u001b[1;33m\u001b[0m\u001b[1;33m\u001b[0m\u001b[0m\n\u001b[0m",
      "\u001b[1;31mNameError\u001b[0m: name 'a1' is not defined"
     ]
    }
   ],
   "source": [
    "n1 = [1,2,3]\n",
    "n2 = [11,22,33]\n",
    "m = map(lambda num1, num2: num1**2 + num**2, n1,n2)\n",
    "\n",
    "\n",
    "print(list(a1))"
   ]
  },
  {
   "cell_type": "code",
   "execution_count": 8,
   "metadata": {},
   "outputs": [
    {
     "name": "stdout",
     "output_type": "stream",
     "text": [
      "['apple!!!', 'mango!!!', 'cherry!!!']\n"
     ]
    }
   ],
   "source": [
    "n = ['apple' , 'mango', 'cherry']\n",
    "m = map(lambda num: num+'!!!' ,n)\n",
    "\n",
    "# map(func, elem)\n",
    "# map() returns object,\n",
    "# so it is must to use list() command after using map()\n",
    "\n",
    "print(list(m))"
   ]
  },
  {
   "cell_type": "code",
   "execution_count": 9,
   "metadata": {},
   "outputs": [
    {
     "name": "stdout",
     "output_type": "stream",
     "text": [
      "['cherry']\n"
     ]
    }
   ],
   "source": [
    "n = ['apple' , 'mango', 'cherry']\n",
    "m = filter(lambda num: len(num)>5, n)\n",
    "# filter(func, elem)\n",
    "# filter() returns object, so it is must to use list()\n",
    "# command after using filter()\n",
    "print(list(m))"
   ]
  },
  {
   "cell_type": "code",
   "execution_count": 10,
   "metadata": {},
   "outputs": [
    {
     "name": "stdout",
     "output_type": "stream",
     "text": [
      "applemangocherry\n"
     ]
    }
   ],
   "source": [
    "from functools import reduce\n",
    "n = ['apple' , 'mango','cherry']\n",
    "m = reduce(lambda num1, num2: num1 + num2, n) \n",
    "\n",
    "#reduce(func, elem)\n",
    "#reduce() does not return object,\n",
    "# so it is not required to use list() after using reduce()\n",
    "\n",
    "print(m)"
   ]
  },
  {
   "cell_type": "code",
   "execution_count": 11,
   "metadata": {},
   "outputs": [
    {
     "name": "stdout",
     "output_type": "stream",
     "text": [
      "125\n"
     ]
    }
   ],
   "source": [
    "from functools import reduce\n",
    "n = ['1' , '2','5']\n",
    "m = reduce(lambda num1, num2: num1 + num2, n) \n",
    "\n",
    "#reduce(func, elem)\n",
    "#reduce() does not return object,\n",
    "# so it is not required to use list() after using reduce()\n",
    "\n",
    "print(m)"
   ]
  },
  {
   "cell_type": "code",
   "execution_count": 12,
   "metadata": {},
   "outputs": [
    {
     "name": "stdout",
     "output_type": "stream",
     "text": [
      "8\n"
     ]
    }
   ],
   "source": [
    "from functools import reduce\n",
    "n = [1 , 2,5]\n",
    "m = reduce(lambda num1, num2: num1 + num2, n) \n",
    "\n",
    "#reduce(func, elem)\n",
    "#reduce() does not return object,\n",
    "# so it is not required to use list() after using reduce()\n",
    "\n",
    "print(m)"
   ]
  },
  {
   "cell_type": "code",
   "execution_count": 20,
   "metadata": {},
   "outputs": [
    {
     "name": "stdout",
     "output_type": "stream",
     "text": [
      "echo must be an integer\n"
     ]
    },
    {
     "ename": "UnboundLocalError",
     "evalue": "local variable 'varr' referenced before assignment",
     "output_type": "error",
     "traceback": [
      "\u001b[1;31m---------------------------------------------------------------------------\u001b[0m",
      "\u001b[1;31mUnboundLocalError\u001b[0m                         Traceback (most recent call last)",
      "\u001b[1;32m<ipython-input-20-75290c3bf97d>\u001b[0m in \u001b[0;36m<module>\u001b[1;34m\u001b[0m\n\u001b[0;32m      6\u001b[0m         \u001b[0mprint\u001b[0m\u001b[1;33m(\u001b[0m\u001b[1;34m'echo must be an integer'\u001b[0m\u001b[1;33m)\u001b[0m\u001b[1;33m\u001b[0m\u001b[1;33m\u001b[0m\u001b[0m\n\u001b[0;32m      7\u001b[0m     \u001b[1;32mreturn\u001b[0m\u001b[1;33m(\u001b[0m\u001b[0mvarr\u001b[0m\u001b[1;33m)\u001b[0m\u001b[1;33m\u001b[0m\u001b[1;33m\u001b[0m\u001b[0m\n\u001b[1;32m----> 8\u001b[1;33m \u001b[0mabc\u001b[0m\u001b[1;33m(\u001b[0m\u001b[1;34m'hello'\u001b[0m\u001b[1;33m,\u001b[0m\u001b[0mecho\u001b[0m\u001b[1;33m=\u001b[0m\u001b[1;34m'apple'\u001b[0m\u001b[1;33m)\u001b[0m\u001b[1;33m\u001b[0m\u001b[1;33m\u001b[0m\u001b[0m\n\u001b[0m",
      "\u001b[1;32m<ipython-input-20-75290c3bf97d>\u001b[0m in \u001b[0;36mabc\u001b[1;34m(var, echo)\u001b[0m\n\u001b[0;32m      5\u001b[0m     \u001b[1;32mexcept\u001b[0m\u001b[1;33m:\u001b[0m\u001b[1;33m\u001b[0m\u001b[1;33m\u001b[0m\u001b[0m\n\u001b[0;32m      6\u001b[0m         \u001b[0mprint\u001b[0m\u001b[1;33m(\u001b[0m\u001b[1;34m'echo must be an integer'\u001b[0m\u001b[1;33m)\u001b[0m\u001b[1;33m\u001b[0m\u001b[1;33m\u001b[0m\u001b[0m\n\u001b[1;32m----> 7\u001b[1;33m     \u001b[1;32mreturn\u001b[0m\u001b[1;33m(\u001b[0m\u001b[0mvarr\u001b[0m\u001b[1;33m)\u001b[0m\u001b[1;33m\u001b[0m\u001b[1;33m\u001b[0m\u001b[0m\n\u001b[0m\u001b[0;32m      8\u001b[0m \u001b[0mabc\u001b[0m\u001b[1;33m(\u001b[0m\u001b[1;34m'hello'\u001b[0m\u001b[1;33m,\u001b[0m\u001b[0mecho\u001b[0m\u001b[1;33m=\u001b[0m\u001b[1;34m'apple'\u001b[0m\u001b[1;33m)\u001b[0m\u001b[1;33m\u001b[0m\u001b[1;33m\u001b[0m\u001b[0m\n",
      "\u001b[1;31mUnboundLocalError\u001b[0m: local variable 'varr' referenced before assignment"
     ]
    }
   ],
   "source": [
    "def abc(var, echo=1):\n",
    "    try:\n",
    "        varr  = var*echo\n",
    "        varr = varr+'$$$'\n",
    "    except:\n",
    "        print('echo must be an integer')\n",
    "    return(varr)\n",
    "abc('hello',echo='apple')"
   ]
  },
  {
   "cell_type": "code",
   "execution_count": 19,
   "metadata": {},
   "outputs": [
    {
     "data": {
      "text/plain": [
       "'hellohellohello$$$'"
      ]
     },
     "execution_count": 19,
     "metadata": {},
     "output_type": "execute_result"
    }
   ],
   "source": [
    "def abc(var, echo=1):\n",
    "    try:\n",
    "        varr  = var*echo\n",
    "        varr = varr+'$$$'\n",
    "    except:\n",
    "        print('echo must be an integer')\n",
    "    return(varr)\n",
    "abc('hello',echo=3)"
   ]
  },
  {
   "cell_type": "code",
   "execution_count": 21,
   "metadata": {},
   "outputs": [
    {
     "name": "stdout",
     "output_type": "stream",
     "text": [
      "cricket\n",
      "hockey\n",
      "basketball\n",
      "tennis\n"
     ]
    }
   ],
   "source": [
    "#Iterative and Iterators\n",
    "\n",
    "sports = ['cricket', 'hockey','basketball','tennis']\n",
    "for a in sports:    #Printing each element using loop\n",
    "    print(a)\n"
   ]
  },
  {
   "cell_type": "code",
   "execution_count": 28,
   "metadata": {},
   "outputs": [
    {
     "name": "stdout",
     "output_type": "stream",
     "text": [
      "<list_iterator object at 0x000001982225CA60>\n"
     ]
    },
    {
     "data": {
      "text/plain": [
       "'cricket'"
      ]
     },
     "execution_count": 28,
     "metadata": {},
     "output_type": "execute_result"
    }
   ],
   "source": [
    "sports = ['cricket','hockey','basketball','tennis']\n",
    "z = iter(sports) #printing each elements using iter\n",
    "type(z)\n",
    "print(z)\n",
    "next(z)\n",
    "#next(z)\n",
    "#next(z)\n",
    "#next(z)\n",
    "# iterable: sports (itself list is an iterable)\n",
    "# iterator: z"
   ]
  },
  {
   "cell_type": "code",
   "execution_count": 30,
   "metadata": {},
   "outputs": [
    {
     "name": "stdout",
     "output_type": "stream",
     "text": [
      "cricket\n",
      "hockey\n",
      "basketball\n",
      "tennis\n"
     ]
    }
   ],
   "source": [
    "sports = ['cricket','hockey','basketball','tennis']\n",
    "z = iter(sports) #printing each elements using iter\n",
    "print(next(z))\n",
    "print(next(z))\n",
    "print(next(z))\n",
    "print(next(z))\n",
    "\n",
    "#iterable: sports (itself list is an iterable)\n",
    "#iterator: z"
   ]
  },
  {
   "cell_type": "code",
   "execution_count": 36,
   "metadata": {},
   "outputs": [
    {
     "name": "stdout",
     "output_type": "stream",
     "text": [
      "0\n",
      "1\n",
      "2\n"
     ]
    }
   ],
   "source": [
    "a = iter(range(3))\n",
    "print(next(a))\n",
    "print(next(a))\n",
    "print(next(a))\n"
   ]
  },
  {
   "cell_type": "code",
   "execution_count": 35,
   "metadata": {},
   "outputs": [
    {
     "name": "stdout",
     "output_type": "stream",
     "text": [
      "0\n",
      "1\n",
      "2\n"
     ]
    }
   ],
   "source": [
    "for num in range(3):\n",
    "    print(num)"
   ]
  },
  {
   "cell_type": "code",
   "execution_count": 38,
   "metadata": {},
   "outputs": [
    {
     "name": "stdout",
     "output_type": "stream",
     "text": [
      "[(0, 'cricket'), (1, 'hockey'), (2, 'basketball'), (3, 'tennis')]\n"
     ]
    }
   ],
   "source": [
    "sports = ['cricket','hockey','basketball','tennis']\n",
    "z = list(enumerate(sports))\n",
    "\n",
    "# enumerate gives us a sequence of tuples\n",
    "# (each tuple is a index-value) where index is default starting from 0.\n",
    "# must use list() with enumerate()\n",
    "# z is a list of tupes\n",
    "\n",
    "print(z)"
   ]
  },
  {
   "cell_type": "code",
   "execution_count": 40,
   "metadata": {},
   "outputs": [
    {
     "name": "stdout",
     "output_type": "stream",
     "text": [
      "0 cricket\n",
      "1 hockey\n",
      "2 basketball\n",
      "3 tennis\n"
     ]
    }
   ],
   "source": [
    "for index,value in enumerate(sports):\n",
    "    print(index,value)"
   ]
  },
  {
   "cell_type": "code",
   "execution_count": 43,
   "metadata": {},
   "outputs": [
    {
     "name": "stdout",
     "output_type": "stream",
     "text": [
      "[('cricket', 'watson', 'aus'), ('hockey', 'jahangir', 'pak'), ('basketball', 'michaeljordan', 'afr')]\n"
     ]
    }
   ],
   "source": [
    "sports = ['cricket','hockey','basketball','tennis']\n",
    "player = ['watson','jahangir','michaeljordan','rogerfederer']\n",
    "country = ['aus','pak','afr','usa']\n",
    "\n",
    "z = list(zip(sports,player,country))\n",
    "\n",
    "# zip(0 gives us a sequence of tuples\n",
    "# must use list() with zip()\n",
    "# z is a list of tuples\n",
    "\n",
    "print(z)"
   ]
  },
  {
   "cell_type": "code",
   "execution_count": 44,
   "metadata": {},
   "outputs": [
    {
     "name": "stdout",
     "output_type": "stream",
     "text": [
      "[('cricket', 'watson', 'aus'), ('hockey', 'jahangir', 'pak'), ('basketball', 'michaeljordan', 'afr'), ('tennis', 'rogerfederer', 'usa')]\n"
     ]
    }
   ],
   "source": [
    "sports = ['cricket','hockey','basketball','tennis']\n",
    "player = ['watson','jahangir','michaeljordan','rogerfederer']\n",
    "country = ['aus','pak','afr','usa']\n",
    "\n",
    "z = list(zip(sports,player,country))\n",
    "\n",
    "# zip(0 gives us a sequence of tuples\n",
    "# must use list() with zip()\n",
    "# z is a list of tuples\n",
    "\n",
    "print(z)"
   ]
  },
  {
   "cell_type": "code",
   "execution_count": 53,
   "metadata": {},
   "outputs": [
    {
     "name": "stdout",
     "output_type": "stream",
     "text": [
      "('cricket', 'watson', 'aus') ('hockey', 'jahangir', 'pak') ('basketball', 'michaeljordan', 'afr') ('tennis', 'rogerfederer', 'usa')\n",
      " \n",
      "('cricket', 'hockey', 'basketball', 'tennis')\n",
      "('watson', 'jahangir', 'michaeljordan', 'rogerfederer')\n",
      "('aus', 'pak', 'afr', 'usa')\n"
     ]
    }
   ],
   "source": [
    "sports = ['cricket','hockey','basketball','tennis']\n",
    "player = ['watson','jahangir','michaeljordan','rogerfederer']\n",
    "country = ['aus','pak','afr','usa']\n",
    "\n",
    "z = zip(sports, player,country)  #zip() gives us a sequence of typles S\n",
    "\n",
    "# z is a list of tples\n",
    "#print(type(z))  # zip is a type\n",
    "#print(list(z))\n",
    "\n",
    "print(*z)   #unzipping the zipped variable and showing/displaying the unzipped contents\n",
    "\n",
    "#print(list(z))\n",
    "\n",
    "t = zip(sports, player, country)  # again zipping contents into a variable\n",
    "sp, pl, co = zip(*t) # unzipping the zipped variable and storing contents\n",
    "print(' ')\n",
    "print(sp)\n",
    "print(pl)\n",
    "print(co)\n",
    "\n",
    "# unzipping the zipped variable and storing contents into ariables\n",
    "\n",
    "#Zip commands generate tuples"
   ]
  },
  {
   "cell_type": "markdown",
   "metadata": {},
   "source": [
    "## List Comprehensions"
   ]
  },
  {
   "cell_type": "code",
   "execution_count": 1,
   "metadata": {},
   "outputs": [
    {
     "data": {
      "text/plain": [
       "['c', 'h', 'b', 't']"
      ]
     },
     "execution_count": 1,
     "metadata": {},
     "output_type": "execute_result"
    }
   ],
   "source": [
    "sports = ['cricket','hockey','basketball','tennis']\n",
    "[docx[0] for docx in sports]\n",
    "#whole statement is written inside \"[]\" thats why it is called \"list comprehension\""
   ]
  },
  {
   "cell_type": "code",
   "execution_count": 2,
   "metadata": {},
   "outputs": [
    {
     "name": "stdout",
     "output_type": "stream",
     "text": [
      "[0, 1, 4, 9, 16]\n"
     ]
    }
   ],
   "source": [
    "abc = [i ** 2 for i in range(5)]\n",
    "#whole statement is written inside \"[]\" thats why it is called \"list comprehension\"\n",
    "print(abc)"
   ]
  },
  {
   "cell_type": "code",
   "execution_count": 5,
   "metadata": {},
   "outputs": [
    {
     "name": "stdout",
     "output_type": "stream",
     "text": [
      "['hockey', 'tennis']\n"
     ]
    }
   ],
   "source": [
    "sports = ['cricket','hockey','basketball','tennis']\n",
    "a = [elem for elem in sports if len(elem) <=6]\n",
    "#whole statement is written inside \"[]\" thats why it is called \"list comprehension\"\n",
    "print(a)"
   ]
  },
  {
   "cell_type": "code",
   "execution_count": 6,
   "metadata": {},
   "outputs": [
    {
     "name": "stdout",
     "output_type": "stream",
     "text": [
      "['abc', 'hockey', 'abc', 'tennis']\n"
     ]
    }
   ],
   "source": [
    "sports = ['cricket','hockey','basketball','tennis']\n",
    "new_sports = [elem if len(elem)<=6 else elem.replace(elem,'abc') for elem in sports]\n",
    "#whole statement is written inside \"[]\" thats why it is called \"list comprehension\"\n",
    "print(new_sports)"
   ]
  },
  {
   "cell_type": "code",
   "execution_count": 7,
   "metadata": {},
   "outputs": [
    {
     "name": "stdout",
     "output_type": "stream",
     "text": [
      "[['cricket', 7], ['hockey', 6], ['basketball', 10], ['tennis', 6]]\n"
     ]
    }
   ],
   "source": [
    "#List of list\n",
    "\n",
    "sports = ['cricket','hockey','basketball','tennis']\n",
    "new_sports = [[elem, len(elem)] for elem in sports]\n",
    "#whole statement is written inside \"[]\" thats why it is called \"list comprehension\"\n",
    "print(new_sports)"
   ]
  },
  {
   "cell_type": "code",
   "execution_count": 8,
   "metadata": {},
   "outputs": [
    {
     "name": "stdout",
     "output_type": "stream",
     "text": [
      "[('cricket', 7), ('hockey', 6), ('basketball', 10), ('tennis', 6)]\n"
     ]
    }
   ],
   "source": [
    "#List of Tuple\n",
    "\n",
    "sports = ['cricket','hockey','basketball','tennis']\n",
    "new_sports = [(elem, len(elem)) for elem in sports]\n",
    "#whole statement is written inside \"[]\" thats why it is called \"list comprehension\"\n",
    "print(new_sports)"
   ]
  },
  {
   "cell_type": "code",
   "execution_count": null,
   "metadata": {},
   "outputs": [],
   "source": []
  }
 ],
 "metadata": {
  "kernelspec": {
   "display_name": "Python 3",
   "language": "python",
   "name": "python3"
  },
  "language_info": {
   "codemirror_mode": {
    "name": "ipython",
    "version": 3
   },
   "file_extension": ".py",
   "mimetype": "text/x-python",
   "name": "python",
   "nbconvert_exporter": "python",
   "pygments_lexer": "ipython3",
   "version": "3.8.3"
  }
 },
 "nbformat": 4,
 "nbformat_minor": 4
}
