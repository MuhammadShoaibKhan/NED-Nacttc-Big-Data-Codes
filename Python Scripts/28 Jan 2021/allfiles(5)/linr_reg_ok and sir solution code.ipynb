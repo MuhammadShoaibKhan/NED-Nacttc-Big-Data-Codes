{
 "cells": [
  {
   "cell_type": "code",
   "execution_count": 3,
   "metadata": {},
   "outputs": [],
   "source": [
    "from sklearn.linear_model import LinearRegression\n",
    "import matplotlib.pyplot as plt \n",
    "import numpy as np \n",
    "import pandas as pd "
   ]
  },
  {
   "cell_type": "code",
   "execution_count": 13,
   "metadata": {},
   "outputs": [],
   "source": [
    "def linreg_algo(dictt):\n",
    "    \n",
    "    # preparing data : \n",
    "    df = pd.DataFrame(dictt) # tabular data (containing x and y values)\n",
    "\n",
    "    # plotting i/p data : \n",
    "    plt.plot(df['x'] , df['y'],'-o'); # (original data: x & y plot)\n",
    "    plt.xlim([0 , max(df['x'])+1]); \n",
    "    plt.ylim([0 , max(df['y'])+1]);\n",
    "\n",
    "    # applying ML : \n",
    "    reg = LinearRegression() # linear regression = formula : ypred = mx + b\n",
    "    reg.fit(df[['x']] , df['y']) # x must be a df  \n",
    "    \n",
    "    m = np.round(float(reg.coef_) , 2); # m = slope\n",
    "    b = np.round(float(reg.intercept_) , 2); # b = y_intercept\n",
    "    acc = np.round(reg.score(df[['x']] , df['y'])*100 , 2); # acc = accuracy \n",
    "    ypred = np.round(reg.predict(df[['x']]) , 2); # y_predicted\n",
    "    \n",
    "    err = np.round((100 - acc) , 2); # error \n",
    "    \n",
    "    # displaying o/p : \n",
    "    print('slope = m = ' , m) # theta or coeff or slope\n",
    "    print('y_intercept = b = ' , b) # y_intercept \n",
    "    print('y actual = ' , list(df['y'])) # y_actual \n",
    "    print('ypred values = ',ypred); # y_predicted \n",
    "    print('accuracy = ', acc , '%') # accuracy\n",
    "    print('error = ', err , '%') # error\n",
    "    print('o/p model formula : ','y = ',m,'*x + ',b) # o/p trained model eqn \n",
    "    \n",
    "    # plotting o/p : \n",
    "    plt.plot(df['x'] , ypred, '-ro'); \n",
    "    plt.grid(); "
   ]
  },
  {
   "cell_type": "code",
   "execution_count": 10,
   "metadata": {},
   "outputs": [],
   "source": [
    "def linreg_manual(dictt):\n",
    "    \n",
    "    # preparing data : \n",
    "    x = list(dictt.values())[0]; # 1st key values ~or~ 1st column values\n",
    "    y = list(dictt.values())[1]; # 2nd key values ~or~ 2nd column values\n",
    "    x = np.array(x);\n",
    "    y = np.array(y);\n",
    "\n",
    "    # plotting i/p data : \n",
    "    plt.plot(x , y,'-o'); # (original data: x & y plot)\n",
    "    plt.xlim([0 , max(x)+1]); \n",
    "    plt.ylim([0 , max(y)+1]);\n",
    "    \n",
    "    # calculating 'slope' manually : \n",
    "    numr = np.sum(((x-np.mean(x)) * (y-np.mean(y)))); # numerator\n",
    "    denr = np.sum(np.square(x-np.mean(x))); # denominator\n",
    "    m = numr / denr; # formula for slope\n",
    "\n",
    "    # calculating 'y_intercept' manually : \n",
    "    b = np.mean(y) - (m*np.mean(x)); # formula for y_intercept \n",
    "    \n",
    "    # calculating 'ypred' manually : \n",
    "    ypred = list(np.round( ((m*x) + b) , 2));\n",
    "    \n",
    "    # displaying o/p : \n",
    "    print('slope = m = ' , np.round(m,2)) # theta or coeff or slope\n",
    "    print('y_intercept = b = ' , np.round(b,2)) # y_intercept \n",
    "    print('y actual = ' , list(y)) # y_actual \n",
    "    print('ypred values = ',ypred); # y_predicted\n",
    "    \n",
    "    # plotting o/p : \n",
    "    plt.plot(x , ypred, 'ro'); \n",
    "    plt.grid(); "
   ]
  },
  {
   "cell_type": "code",
   "execution_count": 6,
   "metadata": {},
   "outputs": [],
   "source": [
    "# calling functions by giving i/p : \n",
    "# --------------------------------"
   ]
  },
  {
   "cell_type": "code",
   "execution_count": 7,
   "metadata": {},
   "outputs": [
    {
     "name": "stdout",
     "output_type": "stream",
     "text": [
      "slope = m =  1.0\n",
      "y_intercept = b =  -0.0\n",
      "y actual =  [0, 1, 2, 3, 4]\n",
      "ypred values =  [-0.  1.  2.  3.  4.]\n",
      "accuracy =  100.0 %\n",
      "error =  0.0 %\n",
      "o/p model formula :  y =  1.0 *x +  -0.0\n"
     ]
    },
    {
     "data": {
      "image/png": "[encoded data removed]",
      "text/plain": [
       "<Figure size 432x288 with 1 Axes>"
      ]
     },
     "metadata": {
      "needs_background": "light"
     },
     "output_type": "display_data"
    }
   ],
   "source": [
    "dictt = {'x': [0,1,2,3,4],\n",
    "        'y': [0,1,2,3,4]}; \n",
    "\n",
    "linreg_algo(dictt);"
   ]
  },
  {
   "cell_type": "code",
   "execution_count": 8,
   "metadata": {},
   "outputs": [
    {
     "name": "stdout",
     "output_type": "stream",
     "text": [
      "slope = m =  1.0\n",
      "y_intercept = b =  0.0\n",
      "y actual =  [0, 1, 2, 3, 4]\n",
      "ypred values =  [0.0, 1.0, 2.0, 3.0, 4.0]\n"
     ]
    },
    {
     "data": {
      "image/png": "[encoded data removed]",
      "text/plain": [
       "<Figure size 432x288 with 1 Axes>"
      ]
     },
     "metadata": {
      "needs_background": "light"
     },
     "output_type": "display_data"
    }
   ],
   "source": [
    "dictt = {'x': [0,1,2,3,4],\n",
    "        'y': [0,1,2,3,4]};\n",
    "\n",
    "linreg_manual(dictt); "
   ]
  },
  {
   "cell_type": "code",
   "execution_count": 8,
   "metadata": {},
   "outputs": [
    {
     "name": "stdout",
     "output_type": "stream",
     "text": [
      "slope = m =  2.0\n",
      "y_intercept = b =  0.0\n",
      "y actual =  [0, 2, 4, 6, 8]\n",
      "ypred values =  [0. 2. 4. 6. 8.]\n",
      "accuracy =  100.0 %\n",
      "error =  0.0 %\n",
      "o/p model formula :  y =  2.0 *x +  0.0\n"
     ]
    },
    {
     "data": {
      "image/png": "[encoded data removed]",
      "text/plain": [
       "<Figure size 432x288 with 1 Axes>"
      ]
     },
     "metadata": {
      "needs_background": "light"
     },
     "output_type": "display_data"
    }
   ],
   "source": [
    "dictt = {'x': [0,1,2,3,4],\n",
    "        'y': [0,2,4,6,8]};\n",
    "\n",
    "linreg_algo(dictt);"
   ]
  },
  {
   "cell_type": "code",
   "execution_count": 9,
   "metadata": {},
   "outputs": [
    {
     "name": "stdout",
     "output_type": "stream",
     "text": [
      "slope = m =  2.0\n",
      "y_intercept = b =  0.0\n",
      "y actual =  [0, 2, 4, 6, 8]\n",
      "ypred values =  [0.0, 2.0, 4.0, 6.0, 8.0]\n"
     ]
    },
    {
     "data": {
      "image/png": "[encoded data removed]",
      "text/plain": [
       "<Figure size 432x288 with 1 Axes>"
      ]
     },
     "metadata": {
      "needs_background": "light"
     },
     "output_type": "display_data"
    }
   ],
   "source": [
    "dictt = {'x': [0,1,2,3,4],\n",
    "        'y': [0,2,4,6,8]};\n",
    "\n",
    "linreg_manual(dictt);"
   ]
  },
  {
   "cell_type": "code",
   "execution_count": 10,
   "metadata": {},
   "outputs": [
    {
     "name": "stdout",
     "output_type": "stream",
     "text": [
      "slope = m =  1.0\n",
      "y_intercept = b =  0.5\n",
      "y actual =  [0.5, 1.5, 2.5, 3.5, 4.5]\n",
      "ypred values =  [0.5 1.5 2.5 3.5 4.5]\n",
      "accuracy =  100.0 %\n",
      "error =  0.0 %\n",
      "o/p model formula :  y =  1.0 *x +  0.5\n"
     ]
    },
    {
     "data": {
      "image/png": "[encoded data removed]",
      "text/plain": [
       "<Figure size 432x288 with 1 Axes>"
      ]
     },
     "metadata": {
      "needs_background": "light"
     },
     "output_type": "display_data"
    }
   ],
   "source": [
    "dictt = {'x': [0,1,2,3,4],\n",
    "        'y': [0.5,1.5,2.5,3.5,4.5]};\n",
    "\n",
    "linreg_algo(dictt);"
   ]
  },
  {
   "cell_type": "code",
   "execution_count": 11,
   "metadata": {},
   "outputs": [
    {
     "name": "stdout",
     "output_type": "stream",
     "text": [
      "slope = m =  1.0\n",
      "y_intercept = b =  0.5\n",
      "y actual =  [0.5, 1.5, 2.5, 3.5, 4.5]\n",
      "ypred values =  [0.5, 1.5, 2.5, 3.5, 4.5]\n"
     ]
    },
    {
     "data": {
      "image/png": "[encoded data removed]",
      "text/plain": [
       "<Figure size 432x288 with 1 Axes>"
      ]
     },
     "metadata": {
      "needs_background": "light"
     },
     "output_type": "display_data"
    }
   ],
   "source": [
    "dictt = {'x': [0,1,2,3,4],\n",
    "        'y': [0.5,1.5,2.5,3.5,4.5]};\n",
    "\n",
    "linreg_manual(dictt);"
   ]
  },
  {
   "cell_type": "code",
   "execution_count": 12,
   "metadata": {},
   "outputs": [
    {
     "name": "stdout",
     "output_type": "stream",
     "text": [
      "slope = m =  1.0\n",
      "y_intercept = b =  10.0\n",
      "y actual =  [10, 11, 12, 13, 14]\n",
      "ypred values =  [10. 11. 12. 13. 14.]\n",
      "accuracy =  100.0 %\n",
      "error =  0.0 %\n",
      "o/p model formula :  y =  1.0 *x +  10.0\n"
     ]
    },
    {
     "data": {
      "image/png": "[encoded data removed]",
      "text/plain": [
       "<Figure size 432x288 with 1 Axes>"
      ]
     },
     "metadata": {
      "needs_background": "light"
     },
     "output_type": "display_data"
    }
   ],
   "source": [
    "dictt = {'x': [0,1,2,3,4],\n",
    "        'y': [10,11,12,13,14]};\n",
    "\n",
    "linreg_algo(dictt);"
   ]
  },
  {
   "cell_type": "code",
   "execution_count": 13,
   "metadata": {},
   "outputs": [
    {
     "name": "stdout",
     "output_type": "stream",
     "text": [
      "slope = m =  1.0\n",
      "y_intercept = b =  10.0\n",
      "y actual =  [10, 11, 12, 13, 14]\n",
      "ypred values =  [10.0, 11.0, 12.0, 13.0, 14.0]\n"
     ]
    },
    {
     "data": {
      "image/png": "[encoded data removed]",
      "text/plain": [
       "<Figure size 432x288 with 1 Axes>"
      ]
     },
     "metadata": {
      "needs_background": "light"
     },
     "output_type": "display_data"
    }
   ],
   "source": [
    "dictt = {'x': [0,1,2,3,4],\n",
    "        'y': [10,11,12,13,14]};\n",
    "\n",
    "linreg_manual(dictt);"
   ]
  },
  {
   "cell_type": "code",
   "execution_count": 14,
   "metadata": {},
   "outputs": [
    {
     "name": "stdout",
     "output_type": "stream",
     "text": [
      "slope = m =  -10.0\n",
      "y_intercept = b =  50.0\n",
      "y actual =  [50, 40, 30, 20, 10]\n",
      "ypred values =  [50. 40. 30. 20. 10.]\n",
      "accuracy =  100.0 %\n",
      "error =  0.0 %\n",
      "o/p model formula :  y =  -10.0 *x +  50.0\n"
     ]
    },
    {
     "data": {
      "image/png": "[encoded data removed]",
      "text/plain": [
       "<Figure size 432x288 with 1 Axes>"
      ]
     },
     "metadata": {
      "needs_background": "light"
     },
     "output_type": "display_data"
    }
   ],
   "source": [
    "dictt = {'x': [0,1,2,3,4], # x = persons qty\n",
    "        'y': [50,40,30,20,10]}; # y = time in mints\n",
    "\n",
    "linreg_algo(dictt);"
   ]
  },
  {
   "cell_type": "code",
   "execution_count": 15,
   "metadata": {},
   "outputs": [
    {
     "name": "stdout",
     "output_type": "stream",
     "text": [
      "slope = m =  -10.0\n",
      "y_intercept = b =  50.0\n",
      "y actual =  [50, 40, 30, 20, 10]\n",
      "ypred values =  [50.0, 40.0, 30.0, 20.0, 10.0]\n"
     ]
    },
    {
     "data": {
      "image/png": "[encoded data removed]",
      "text/plain": [
       "<Figure size 432x288 with 1 Axes>"
      ]
     },
     "metadata": {
      "needs_background": "light"
     },
     "output_type": "display_data"
    }
   ],
   "source": [
    "dictt = {'x': [0,1,2,3,4], # x = persons qty\n",
    "        'y': [50,40,30,20,10]}; # y = time in mints\n",
    "\n",
    "linreg_manual(dictt);"
   ]
  },
  {
   "cell_type": "code",
   "execution_count": 16,
   "metadata": {},
   "outputs": [],
   "source": [
    "# actual real life data : \n",
    "# ----------------------"
   ]
  },
  {
   "cell_type": "code",
   "execution_count": 15,
   "metadata": {},
   "outputs": [
    {
     "name": "stdout",
     "output_type": "stream",
     "text": [
      "slope = m =  0.69\n",
      "y_intercept = b =  107.83\n",
      "y actual =  [150, 180, 200, 220, 240, 280, 380]\n",
      "ypred values =  [162.92 176.69 190.46 218.01 245.55 273.09 383.27]\n",
      "accuracy =  98.96 %\n",
      "error =  1.04 %\n",
      "o/p model formula :  y =  0.69 *x +  107.83\n"
     ]
    },
    {
     "data": {
      "image/png": "[encoded data removed]",
      "text/plain": [
       "<Figure size 432x288 with 1 Axes>"
      ]
     },
     "metadata": {
      "needs_background": "light"
     },
     "output_type": "display_data"
    }
   ],
   "source": [
    "dictt = {'x': [80,100,120,160,200,240,400], \n",
    "        'y': [150,180,200,220,240,280,380]}; \n",
    "\n",
    "linreg_algo(dictt); "
   ]
  },
  {
   "cell_type": "code",
   "execution_count": 18,
   "metadata": {},
   "outputs": [
    {
     "name": "stdout",
     "output_type": "stream",
     "text": [
      "slope = m =  0.69\n",
      "y_intercept = b =  107.83\n",
      "y actual =  [150, 180, 200, 220, 240, 280, 380]\n",
      "ypred values =  [162.92, 176.69, 190.46, 218.01, 245.55, 273.09, 383.27]\n"
     ]
    },
    {
     "data": {
      "image/png": "[encoded data removed]",
      "text/plain": [
       "<Figure size 432x288 with 1 Axes>"
      ]
     },
     "metadata": {
      "needs_background": "light"
     },
     "output_type": "display_data"
    }
   ],
   "source": [
    "dictt = {'x': [80,100,120,160,200,240,400], \n",
    "        'y': [150,180,200,220,240,280,380]}; \n",
    "\n",
    "linreg_manual(dictt);"
   ]
  },
  {
   "cell_type": "code",
   "execution_count": 16,
   "metadata": {},
   "outputs": [],
   "source": [
    "# Rsq = Score \n",
    "# formula : \n",
    "# Rsq = 1 - sse/sst \n",
    "# sse = sum(y - yp)^2\n",
    "# sst = sum(y - ym)^2"
   ]
  },
  {
   "cell_type": "code",
   "execution_count": 22,
   "metadata": {},
   "outputs": [
    {
     "data": {
      "text/plain": [
       "0.9895863438783895"
      ]
     },
     "execution_count": 22,
     "metadata": {},
     "output_type": "execute_result"
    }
   ],
   "source": [
    "y = np.array([150,180,200,220,240,280,380]);\n",
    "yp = np.array([162.92 , 176.69 , 190.46 , 218.01 , 245.55 , 273.09 , 383.27]); \n",
    "\n",
    "n = np.sum(np.square(y - yp))\n",
    "d = np.sum(np.square(y - np.mean(y)))\n",
    "answ = 1 - (n/d)\n",
    "answ"
   ]
  },
  {
   "cell_type": "code",
   "execution_count": 19,
   "metadata": {},
   "outputs": [],
   "source": [
    "# multi-variate linear regression : \n",
    "# --------------------------------  "
   ]
  },
  {
   "cell_type": "code",
   "execution_count": 24,
   "metadata": {},
   "outputs": [
    {
     "data": {
      "text/html": [
       "<div>\n",
       "<style scoped>\n",
       "    .dataframe tbody tr th:only-of-type {\n",
       "        vertical-align: middle;\n",
       "    }\n",
       "\n",
       "    .dataframe tbody tr th {\n",
       "        vertical-align: top;\n",
       "    }\n",
       "\n",
       "    .dataframe thead th {\n",
       "        text-align: right;\n",
       "    }\n",
       "</style>\n",
       "<table border=\"1\" class=\"dataframe\">\n",
       "  <thead>\n",
       "    <tr style=\"text-align: right;\">\n",
       "      <th></th>\n",
       "      <th>Well</th>\n",
       "      <th>Por</th>\n",
       "      <th>Perm</th>\n",
       "      <th>AI</th>\n",
       "      <th>Brittle</th>\n",
       "      <th>TOC</th>\n",
       "      <th>VR</th>\n",
       "      <th>Prod</th>\n",
       "    </tr>\n",
       "  </thead>\n",
       "  <tbody>\n",
       "    <tr>\n",
       "      <td>0</td>\n",
       "      <td>1</td>\n",
       "      <td>12.08</td>\n",
       "      <td>2.92</td>\n",
       "      <td>2.80</td>\n",
       "      <td>81.40</td>\n",
       "      <td>1.16</td>\n",
       "      <td>2.31</td>\n",
       "      <td>4165.196191</td>\n",
       "    </tr>\n",
       "    <tr>\n",
       "      <td>1</td>\n",
       "      <td>2</td>\n",
       "      <td>12.38</td>\n",
       "      <td>3.53</td>\n",
       "      <td>3.22</td>\n",
       "      <td>46.17</td>\n",
       "      <td>0.89</td>\n",
       "      <td>1.88</td>\n",
       "      <td>3561.146205</td>\n",
       "    </tr>\n",
       "    <tr>\n",
       "      <td>2</td>\n",
       "      <td>3</td>\n",
       "      <td>14.02</td>\n",
       "      <td>2.59</td>\n",
       "      <td>4.01</td>\n",
       "      <td>72.80</td>\n",
       "      <td>0.89</td>\n",
       "      <td>2.72</td>\n",
       "      <td>4284.348574</td>\n",
       "    </tr>\n",
       "    <tr>\n",
       "      <td>3</td>\n",
       "      <td>4</td>\n",
       "      <td>17.67</td>\n",
       "      <td>6.75</td>\n",
       "      <td>2.63</td>\n",
       "      <td>39.81</td>\n",
       "      <td>1.08</td>\n",
       "      <td>1.88</td>\n",
       "      <td>5098.680869</td>\n",
       "    </tr>\n",
       "    <tr>\n",
       "      <td>4</td>\n",
       "      <td>5</td>\n",
       "      <td>17.52</td>\n",
       "      <td>4.57</td>\n",
       "      <td>3.18</td>\n",
       "      <td>10.94</td>\n",
       "      <td>1.51</td>\n",
       "      <td>1.90</td>\n",
       "      <td>3406.132832</td>\n",
       "    </tr>\n",
       "    <tr>\n",
       "      <td>...</td>\n",
       "      <td>...</td>\n",
       "      <td>...</td>\n",
       "      <td>...</td>\n",
       "      <td>...</td>\n",
       "      <td>...</td>\n",
       "      <td>...</td>\n",
       "      <td>...</td>\n",
       "      <td>...</td>\n",
       "    </tr>\n",
       "    <tr>\n",
       "      <td>195</td>\n",
       "      <td>196</td>\n",
       "      <td>11.95</td>\n",
       "      <td>3.13</td>\n",
       "      <td>2.97</td>\n",
       "      <td>67.18</td>\n",
       "      <td>0.80</td>\n",
       "      <td>2.06</td>\n",
       "      <td>3847.571003</td>\n",
       "    </tr>\n",
       "    <tr>\n",
       "      <td>196</td>\n",
       "      <td>197</td>\n",
       "      <td>17.99</td>\n",
       "      <td>9.87</td>\n",
       "      <td>3.38</td>\n",
       "      <td>44.32</td>\n",
       "      <td>0.98</td>\n",
       "      <td>2.08</td>\n",
       "      <td>5601.227131</td>\n",
       "    </tr>\n",
       "    <tr>\n",
       "      <td>197</td>\n",
       "      <td>198</td>\n",
       "      <td>12.12</td>\n",
       "      <td>2.27</td>\n",
       "      <td>3.52</td>\n",
       "      <td>57.07</td>\n",
       "      <td>-0.04</td>\n",
       "      <td>1.73</td>\n",
       "      <td>3409.575363</td>\n",
       "    </tr>\n",
       "    <tr>\n",
       "      <td>198</td>\n",
       "      <td>199</td>\n",
       "      <td>15.55</td>\n",
       "      <td>4.48</td>\n",
       "      <td>2.48</td>\n",
       "      <td>58.25</td>\n",
       "      <td>1.89</td>\n",
       "      <td>2.35</td>\n",
       "      <td>5087.592149</td>\n",
       "    </tr>\n",
       "    <tr>\n",
       "      <td>199</td>\n",
       "      <td>200</td>\n",
       "      <td>20.89</td>\n",
       "      <td>7.54</td>\n",
       "      <td>3.23</td>\n",
       "      <td>46.17</td>\n",
       "      <td>1.71</td>\n",
       "      <td>2.27</td>\n",
       "      <td>6662.622385</td>\n",
       "    </tr>\n",
       "  </tbody>\n",
       "</table>\n",
       "<p>200 rows × 8 columns</p>\n",
       "</div>"
      ],
      "text/plain": [
       "     Well    Por  Perm    AI  Brittle   TOC    VR         Prod\n",
       "0       1  12.08  2.92  2.80    81.40  1.16  2.31  4165.196191\n",
       "1       2  12.38  3.53  3.22    46.17  0.89  1.88  3561.146205\n",
       "2       3  14.02  2.59  4.01    72.80  0.89  2.72  4284.348574\n",
       "3       4  17.67  6.75  2.63    39.81  1.08  1.88  5098.680869\n",
       "4       5  17.52  4.57  3.18    10.94  1.51  1.90  3406.132832\n",
       "..    ...    ...   ...   ...      ...   ...   ...          ...\n",
       "195   196  11.95  3.13  2.97    67.18  0.80  2.06  3847.571003\n",
       "196   197  17.99  9.87  3.38    44.32  0.98  2.08  5601.227131\n",
       "197   198  12.12  2.27  3.52    57.07 -0.04  1.73  3409.575363\n",
       "198   199  15.55  4.48  2.48    58.25  1.89  2.35  5087.592149\n",
       "199   200  20.89  7.54  3.23    46.17  1.71  2.27  6662.622385\n",
       "\n",
       "[200 rows x 8 columns]"
      ]
     },
     "execution_count": 24,
     "metadata": {},
     "output_type": "execute_result"
    }
   ],
   "source": [
    "df = pd.read_csv('multi_lin_reg_data_3d_plot.csv')\n",
    "df "
   ]
  },
  {
   "cell_type": "code",
   "execution_count": 27,
   "metadata": {},
   "outputs": [],
   "source": [
    "df = pd.read_csv('multi_lin_reg_data_3d_plot.csv')\n",
    "\n",
    "x = df[['Por','Brittle']]\n",
    "y = df['Prod']"
   ]
  },
  {
   "cell_type": "code",
   "execution_count": 31,
   "metadata": {},
   "outputs": [
    {
     "name": "stdout",
     "output_type": "stream",
     "text": [
      "slopes are :  [320.39400889  31.37662237]\n",
      "y_intercept is :  -2003.0141117390176\n",
      "Rsq is :  0.9330601183262976\n"
     ]
    }
   ],
   "source": [
    "# $\n",
    "\n",
    "# applying ML : \n",
    "reg = LinearRegression() # linear regression = formula : ypred = mx + b\n",
    "reg.fit(x , y) # x must be a df  \n",
    "    \n",
    "m = reg.coef_; # m = slope\n",
    "b = reg.intercept_; # b = y_intercept\n",
    "acc = reg.score(x , y); # acc = accuracy \n",
    "ypred = reg.predict(x); # y_predicted\n",
    "\n",
    "print('slopes are : ',m);\n",
    "print('y_intercept is : ',b);\n",
    "print('Rsq is : ',acc);\n",
    "# print('Ypred are : ',ypred); "
   ]
  },
  {
   "cell_type": "code",
   "execution_count": 20,
   "metadata": {},
   "outputs": [
    {
     "data": {
      "text/html": [
       "<div>\n",
       "<style scoped>\n",
       "    .dataframe tbody tr th:only-of-type {\n",
       "        vertical-align: middle;\n",
       "    }\n",
       "\n",
       "    .dataframe tbody tr th {\n",
       "        vertical-align: top;\n",
       "    }\n",
       "\n",
       "    .dataframe thead th {\n",
       "        text-align: right;\n",
       "    }\n",
       "</style>\n",
       "<table border=\"1\" class=\"dataframe\">\n",
       "  <thead>\n",
       "    <tr style=\"text-align: right;\">\n",
       "      <th></th>\n",
       "      <th>fixed acidity</th>\n",
       "      <th>volatile acidity</th>\n",
       "      <th>citric acid</th>\n",
       "      <th>residual sugar</th>\n",
       "      <th>chlorides</th>\n",
       "      <th>free sulfur dioxide</th>\n",
       "      <th>total sulfur dioxide</th>\n",
       "      <th>density</th>\n",
       "      <th>pH</th>\n",
       "      <th>sulphates</th>\n",
       "      <th>alcohol</th>\n",
       "      <th>quality</th>\n",
       "    </tr>\n",
       "  </thead>\n",
       "  <tbody>\n",
       "    <tr>\n",
       "      <td>0</td>\n",
       "      <td>7.4</td>\n",
       "      <td>0.700</td>\n",
       "      <td>0.00</td>\n",
       "      <td>1.9</td>\n",
       "      <td>0.076</td>\n",
       "      <td>11.0</td>\n",
       "      <td>34.0</td>\n",
       "      <td>0.99780</td>\n",
       "      <td>3.51</td>\n",
       "      <td>0.56</td>\n",
       "      <td>9.4</td>\n",
       "      <td>5</td>\n",
       "    </tr>\n",
       "    <tr>\n",
       "      <td>1</td>\n",
       "      <td>7.8</td>\n",
       "      <td>0.880</td>\n",
       "      <td>0.00</td>\n",
       "      <td>2.6</td>\n",
       "      <td>0.098</td>\n",
       "      <td>25.0</td>\n",
       "      <td>67.0</td>\n",
       "      <td>0.99680</td>\n",
       "      <td>3.20</td>\n",
       "      <td>0.68</td>\n",
       "      <td>9.8</td>\n",
       "      <td>5</td>\n",
       "    </tr>\n",
       "    <tr>\n",
       "      <td>2</td>\n",
       "      <td>7.8</td>\n",
       "      <td>0.760</td>\n",
       "      <td>0.04</td>\n",
       "      <td>2.3</td>\n",
       "      <td>0.092</td>\n",
       "      <td>15.0</td>\n",
       "      <td>54.0</td>\n",
       "      <td>0.99700</td>\n",
       "      <td>3.26</td>\n",
       "      <td>0.65</td>\n",
       "      <td>9.8</td>\n",
       "      <td>5</td>\n",
       "    </tr>\n",
       "    <tr>\n",
       "      <td>3</td>\n",
       "      <td>11.2</td>\n",
       "      <td>0.280</td>\n",
       "      <td>0.56</td>\n",
       "      <td>1.9</td>\n",
       "      <td>0.075</td>\n",
       "      <td>17.0</td>\n",
       "      <td>60.0</td>\n",
       "      <td>0.99800</td>\n",
       "      <td>3.16</td>\n",
       "      <td>0.58</td>\n",
       "      <td>9.8</td>\n",
       "      <td>6</td>\n",
       "    </tr>\n",
       "    <tr>\n",
       "      <td>4</td>\n",
       "      <td>7.4</td>\n",
       "      <td>0.700</td>\n",
       "      <td>0.00</td>\n",
       "      <td>1.9</td>\n",
       "      <td>0.076</td>\n",
       "      <td>11.0</td>\n",
       "      <td>34.0</td>\n",
       "      <td>0.99780</td>\n",
       "      <td>3.51</td>\n",
       "      <td>0.56</td>\n",
       "      <td>9.4</td>\n",
       "      <td>5</td>\n",
       "    </tr>\n",
       "    <tr>\n",
       "      <td>...</td>\n",
       "      <td>...</td>\n",
       "      <td>...</td>\n",
       "      <td>...</td>\n",
       "      <td>...</td>\n",
       "      <td>...</td>\n",
       "      <td>...</td>\n",
       "      <td>...</td>\n",
       "      <td>...</td>\n",
       "      <td>...</td>\n",
       "      <td>...</td>\n",
       "      <td>...</td>\n",
       "      <td>...</td>\n",
       "    </tr>\n",
       "    <tr>\n",
       "      <td>1594</td>\n",
       "      <td>6.2</td>\n",
       "      <td>0.600</td>\n",
       "      <td>0.08</td>\n",
       "      <td>2.0</td>\n",
       "      <td>0.090</td>\n",
       "      <td>32.0</td>\n",
       "      <td>44.0</td>\n",
       "      <td>0.99490</td>\n",
       "      <td>3.45</td>\n",
       "      <td>0.58</td>\n",
       "      <td>10.5</td>\n",
       "      <td>5</td>\n",
       "    </tr>\n",
       "    <tr>\n",
       "      <td>1595</td>\n",
       "      <td>5.9</td>\n",
       "      <td>0.550</td>\n",
       "      <td>0.10</td>\n",
       "      <td>2.2</td>\n",
       "      <td>0.062</td>\n",
       "      <td>39.0</td>\n",
       "      <td>51.0</td>\n",
       "      <td>0.99512</td>\n",
       "      <td>3.52</td>\n",
       "      <td>0.76</td>\n",
       "      <td>11.2</td>\n",
       "      <td>6</td>\n",
       "    </tr>\n",
       "    <tr>\n",
       "      <td>1596</td>\n",
       "      <td>6.3</td>\n",
       "      <td>0.510</td>\n",
       "      <td>0.13</td>\n",
       "      <td>2.3</td>\n",
       "      <td>0.076</td>\n",
       "      <td>29.0</td>\n",
       "      <td>40.0</td>\n",
       "      <td>0.99574</td>\n",
       "      <td>3.42</td>\n",
       "      <td>0.75</td>\n",
       "      <td>11.0</td>\n",
       "      <td>6</td>\n",
       "    </tr>\n",
       "    <tr>\n",
       "      <td>1597</td>\n",
       "      <td>5.9</td>\n",
       "      <td>0.645</td>\n",
       "      <td>0.12</td>\n",
       "      <td>2.0</td>\n",
       "      <td>0.075</td>\n",
       "      <td>32.0</td>\n",
       "      <td>44.0</td>\n",
       "      <td>0.99547</td>\n",
       "      <td>3.57</td>\n",
       "      <td>0.71</td>\n",
       "      <td>10.2</td>\n",
       "      <td>5</td>\n",
       "    </tr>\n",
       "    <tr>\n",
       "      <td>1598</td>\n",
       "      <td>6.0</td>\n",
       "      <td>0.310</td>\n",
       "      <td>0.47</td>\n",
       "      <td>3.6</td>\n",
       "      <td>0.067</td>\n",
       "      <td>18.0</td>\n",
       "      <td>42.0</td>\n",
       "      <td>0.99549</td>\n",
       "      <td>3.39</td>\n",
       "      <td>0.66</td>\n",
       "      <td>11.0</td>\n",
       "      <td>6</td>\n",
       "    </tr>\n",
       "  </tbody>\n",
       "</table>\n",
       "<p>1599 rows × 12 columns</p>\n",
       "</div>"
      ],
      "text/plain": [
       "      fixed acidity  volatile acidity  citric acid  residual sugar  chlorides  \\\n",
       "0               7.4             0.700         0.00             1.9      0.076   \n",
       "1               7.8             0.880         0.00             2.6      0.098   \n",
       "2               7.8             0.760         0.04             2.3      0.092   \n",
       "3              11.2             0.280         0.56             1.9      0.075   \n",
       "4               7.4             0.700         0.00             1.9      0.076   \n",
       "...             ...               ...          ...             ...        ...   \n",
       "1594            6.2             0.600         0.08             2.0      0.090   \n",
       "1595            5.9             0.550         0.10             2.2      0.062   \n",
       "1596            6.3             0.510         0.13             2.3      0.076   \n",
       "1597            5.9             0.645         0.12             2.0      0.075   \n",
       "1598            6.0             0.310         0.47             3.6      0.067   \n",
       "\n",
       "      free sulfur dioxide  total sulfur dioxide  density    pH  sulphates  \\\n",
       "0                    11.0                  34.0  0.99780  3.51       0.56   \n",
       "1                    25.0                  67.0  0.99680  3.20       0.68   \n",
       "2                    15.0                  54.0  0.99700  3.26       0.65   \n",
       "3                    17.0                  60.0  0.99800  3.16       0.58   \n",
       "4                    11.0                  34.0  0.99780  3.51       0.56   \n",
       "...                   ...                   ...      ...   ...        ...   \n",
       "1594                 32.0                  44.0  0.99490  3.45       0.58   \n",
       "1595                 39.0                  51.0  0.99512  3.52       0.76   \n",
       "1596                 29.0                  40.0  0.99574  3.42       0.75   \n",
       "1597                 32.0                  44.0  0.99547  3.57       0.71   \n",
       "1598                 18.0                  42.0  0.99549  3.39       0.66   \n",
       "\n",
       "      alcohol  quality  \n",
       "0         9.4        5  \n",
       "1         9.8        5  \n",
       "2         9.8        5  \n",
       "3         9.8        6  \n",
       "4         9.4        5  \n",
       "...       ...      ...  \n",
       "1594     10.5        5  \n",
       "1595     11.2        6  \n",
       "1596     11.0        6  \n",
       "1597     10.2        5  \n",
       "1598     11.0        6  \n",
       "\n",
       "[1599 rows x 12 columns]"
      ]
     },
     "execution_count": 20,
     "metadata": {},
     "output_type": "execute_result"
    }
   ],
   "source": [
    "df = pd.read_csv('winedata.csv')\n",
    "df"
   ]
  },
  {
   "cell_type": "code",
   "execution_count": 21,
   "metadata": {},
   "outputs": [],
   "source": [
    "y = df['pH']\n",
    "x = df.drop(['pH'],axis=1)"
   ]
  },
  {
   "cell_type": "code",
   "execution_count": 22,
   "metadata": {},
   "outputs": [
    {
     "name": "stdout",
     "output_type": "stream",
     "text": [
      "slope = m =  [-1.000e-01  1.000e-02 -3.000e-02 -3.000e-02 -5.200e-01  0.000e+00\n",
      " -0.000e+00  6.429e+01 -7.000e-02  7.000e-02 -1.000e-02]\n",
      "y_intercept = b =  -60.53\n",
      "accuracy =  70.06 %\n",
      "error =  29.94 %\n"
     ]
    },
    {
     "data": {
      "image/png": "[encoded data removed]",
      "text/plain": [
       "<Figure size 432x288 with 1 Axes>"
      ]
     },
     "metadata": {
      "needs_background": "light"
     },
     "output_type": "display_data"
    }
   ],
   "source": [
    "# applying ML : \n",
    "reg = LinearRegression() # linear regression = formula : ypred = mx + b\n",
    "reg.fit(x , y) # x must be a df  \n",
    "m = reg.coef_; # m = slope\n",
    "b = reg.intercept_; # b = y_intercept\n",
    "acc = reg.score(x , y)*100; # acc = accuracy \n",
    "ypred = reg.predict(x); # y_predicted\n",
    "err = (100 - acc); # error \n",
    "\n",
    "# displaying o/p : \n",
    "print('slope = m = ' , np.round(m,2)) # theta or coeff or slope\n",
    "print('y_intercept = b = ' , np.round(b,2)) # y_intercept \n",
    "# print('y actual = ' , list(y)) # y_actual \n",
    "# print('ypred values = ',ypred); # y_predicted \n",
    "print('accuracy = ', np.round(acc,2) , '%') # accuracy\n",
    "print('error = ', np.round(err,2) , '%') # error\n",
    "\n",
    "# plotting o/p : \n",
    "plt.plot(np.sort(y),'ro'); # y_actual\n",
    "plt.plot(np.sort(ypred), 'b-'); # y_predicted"
   ]
  },
  {
   "cell_type": "code",
   "execution_count": null,
   "metadata": {},
   "outputs": [],
   "source": []
  }
 ],
 "metadata": {
  "kernelspec": {
   "display_name": "Python 3",
   "language": "python",
   "name": "python3"
  },
  "language_info": {
   "codemirror_mode": {
    "name": "ipython",
    "version": 3
   },
   "file_extension": ".py",
   "mimetype": "text/x-python",
   "name": "python",
   "nbconvert_exporter": "python",
   "pygments_lexer": "ipython3",
   "version": "3.7.4"
  }
 },
 "nbformat": 4,
 "nbformat_minor": 4
}
