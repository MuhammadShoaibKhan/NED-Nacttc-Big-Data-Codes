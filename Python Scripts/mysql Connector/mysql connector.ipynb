{
 "cells": [
  {
   "cell_type": "code",
   "execution_count": 19,
   "metadata": {},
   "outputs": [],
   "source": [
    "# https://www.javatpoint.com/\n",
    "# pip install mysql-connector-python\n",
    "# https://github.com/krishnaik06/MySQL-With-Python/blob/master/Tutorial%203-%20Creating%20Tables%20And%20Inserting%20Records.ipynb"
   ]
  },
  {
   "cell_type": "code",
   "execution_count": 1,
   "metadata": {},
   "outputs": [],
   "source": [
    "import mysql.connector as sql"
   ]
  },
  {
   "cell_type": "code",
   "execution_count": 9,
   "metadata": {},
   "outputs": [],
   "source": [
    "my_db = sql.connect(\n",
    "    host = \"localhost\",\n",
    "    user = \"root\",\n",
    "    password = \"root_ROOT123\"\n",
    ")"
   ]
  },
  {
   "cell_type": "code",
   "execution_count": 10,
   "metadata": {},
   "outputs": [],
   "source": [
    "mycursor = my_db.cursor()"
   ]
  },
  {
   "cell_type": "code",
   "execution_count": 11,
   "metadata": {},
   "outputs": [],
   "source": [
    "mycursor.execute(\"SHOW DATABASES\")"
   ]
  },
  {
   "cell_type": "code",
   "execution_count": 12,
   "metadata": {},
   "outputs": [
    {
     "name": "stdout",
     "output_type": "stream",
     "text": [
      "('db_mursaleenhassan',)\n",
      "('farrukh',)\n",
      "('ghufran',)\n",
      "('hpcc',)\n",
      "('information_schema',)\n",
      "('main_pro',)\n",
      "('mysql',)\n",
      "('ncbc',)\n",
      "('performance_schema',)\n",
      "('products',)\n",
      "('products1',)\n",
      "('recordsofstudents',)\n",
      "('teacher',)\n"
     ]
    }
   ],
   "source": [
    "for databases in mycursor:\n",
    "    print(databases)"
   ]
  },
  {
   "cell_type": "code",
   "execution_count": 13,
   "metadata": {},
   "outputs": [],
   "source": [
    "mycursor.execute(\"USE ghufran\")"
   ]
  },
  {
   "cell_type": "code",
   "execution_count": 14,
   "metadata": {},
   "outputs": [
    {
     "name": "stdout",
     "output_type": "stream",
     "text": [
      "('student',)\n"
     ]
    }
   ],
   "source": [
    "mycursor.execute(\"SHOW Tables\")\n",
    "for tables in mycursor:\n",
    "    print(tables)"
   ]
  },
  {
   "cell_type": "code",
   "execution_count": 15,
   "metadata": {},
   "outputs": [
    {
     "name": "stdout",
     "output_type": "stream",
     "text": [
      "(12, 'sharib', 2, None)\n",
      "(11, 'fariyal', 3, None)\n",
      "(10, 'NimraAhmed', 4, None)\n",
      "(9, 'Anas', 5, None)\n",
      "(8, 'shary', 6, None)\n",
      "(7, 'hashir', 7, None)\n"
     ]
    }
   ],
   "source": [
    "mycursor.execute(\"SELECT * FROM student\")\n",
    "for rows in mycursor:\n",
    "    print(rows)"
   ]
  },
  {
   "cell_type": "code",
   "execution_count": 17,
   "metadata": {},
   "outputs": [],
   "source": [
    "mycursor.execute(\"CREATE TABLE ali(id int(11), name varchar(255), course varchar(255))\")"
   ]
  },
  {
   "cell_type": "code",
   "execution_count": 18,
   "metadata": {},
   "outputs": [],
   "source": [
    "mycursor.execute(\"INSERT INTO ali(id, name, course) VALUES(1,'askari','physics')\")"
   ]
  },
  {
   "cell_type": "code",
   "execution_count": 20,
   "metadata": {},
   "outputs": [
    {
     "name": "stdout",
     "output_type": "stream",
     "text": [
      "(1, 'askari', 'physics')\n"
     ]
    }
   ],
   "source": [
    "mycursor.execute(\"SELECT * FROM ali\")\n",
    "for rows in mycursor:\n",
    "    print(rows)"
   ]
  },
  {
   "cell_type": "code",
   "execution_count": null,
   "metadata": {},
   "outputs": [],
   "source": []
  }
 ],
 "metadata": {
  "kernelspec": {
   "display_name": "Python 3",
   "language": "python",
   "name": "python3"
  },
  "language_info": {
   "codemirror_mode": {
    "name": "ipython",
    "version": 3
   },
   "file_extension": ".py",
   "mimetype": "text/x-python",
   "name": "python",
   "nbconvert_exporter": "python",
   "pygments_lexer": "ipython3",
   "version": "3.8.5"
  }
 },
 "nbformat": 4,
 "nbformat_minor": 4
}
