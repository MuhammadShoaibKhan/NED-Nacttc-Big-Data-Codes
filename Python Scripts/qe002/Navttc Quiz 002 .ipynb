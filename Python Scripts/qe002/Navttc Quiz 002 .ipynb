{
 "cells": [
  {
   "cell_type": "code",
   "execution_count": 47,
   "metadata": {},
   "outputs": [
    {
     "name": "stdout",
     "output_type": "stream",
     "text": [
      "[1, 3, 5, 7, 9, 11, 13, 15, 17, 19]\n",
      "14\n"
     ]
    }
   ],
   "source": [
    "# Task 001\n",
    "\n",
    "q101 = [1,3,5,7,9,11,13,15,17,19]\n",
    "\n",
    "q102 = q101[-2] - q101[1]\n",
    "\n",
    "print(q101)\n",
    "print(q102)"
   ]
  },
  {
   "cell_type": "code",
   "execution_count": 49,
   "metadata": {},
   "outputs": [
    {
     "name": "stdout",
     "output_type": "stream",
     "text": [
      "1000\n",
      "260000\n"
     ]
    }
   ],
   "source": [
    "# Task 002\n",
    "\n",
    "q201 = [251,252,253,254,255,256,257,258,259,260]\n",
    "\n",
    "a = len(q201)\n",
    "\n",
    "b = a**3\n",
    "q202 = b*q201[-1]\n",
    "\n",
    "print(b)\n",
    "print(q202)\n",
    "\n"
   ]
  },
  {
   "cell_type": "code",
   "execution_count": 46,
   "metadata": {},
   "outputs": [
    {
     "name": "stdout",
     "output_type": "stream",
     "text": [
      "Original list is: [2, 4, 6, 8, 10, 12, 14, 16, 18, 20]\n",
      "Even index list : [2, 6, 10, 14, 18]\n"
     ]
    }
   ],
   "source": [
    "# Task 003\n",
    "\n",
    "q301 = [2,4,6,8,10,12,14,16,18,20]\n",
    "q302 = q301[::2]  \n",
    "\n",
    "print(\"Original list is: \"+str(q301))\n",
    "print(\"Even index list : \" + str(q302)) \n"
   ]
  },
  {
   "cell_type": "code",
   "execution_count": 43,
   "metadata": {},
   "outputs": [
    {
     "name": "stdout",
     "output_type": "stream",
     "text": [
      "The q401 list is ([1, 2, 3], ['Jan', 'Feb', 'Mar', 'April', 'May'], 3.142)\n",
      "Feb\n"
     ]
    }
   ],
   "source": [
    "# Task 004\n",
    "\n",
    "q401 = ([1,2,3],['Jan','Feb','Mar','April','May'], 3.142)\n",
    "\n",
    "print('The q401 list is ' + str(q401))\n",
    "\n",
    "q402 = q401[1][1]\n",
    "\n",
    "print(q402)"
   ]
  },
  {
   "cell_type": "code",
   "execution_count": null,
   "metadata": {},
   "outputs": [],
   "source": []
  }
 ],
 "metadata": {
  "kernelspec": {
   "display_name": "Python 3",
   "language": "python",
   "name": "python3"
  },
  "language_info": {
   "codemirror_mode": {
    "name": "ipython",
    "version": 3
   },
   "file_extension": ".py",
   "mimetype": "text/x-python",
   "name": "python",
   "nbconvert_exporter": "python",
   "pygments_lexer": "ipython3",
   "version": "3.8.5"
  }
 },
 "nbformat": 4,
 "nbformat_minor": 4
}
